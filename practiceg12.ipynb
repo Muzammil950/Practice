{
 "cells": [
  {
   "cell_type": "code",
   "execution_count": 1,
   "id": "e90e5522-312b-46a9-894a-db7b25388d84",
   "metadata": {},
   "outputs": [],
   "source": [
    "class data_science :\n",
    "    def syllabus(self):\n",
    "        print(\"this is my data_science\")"
   ]
  },
  {
   "cell_type": "code",
   "execution_count": 3,
   "id": "f57b8f6a-03d0-4e66-b6f8-cc4272485458",
   "metadata": {},
   "outputs": [],
   "source": [
    "class web_dev :\n",
    "    def syllabus(self):\n",
    "        print(\"this is my web_dev\")"
   ]
  },
  {
   "cell_type": "code",
   "execution_count": 4,
   "id": "d40f77e4-f7e9-42d1-be6a-ed1f568851fe",
   "metadata": {},
   "outputs": [],
   "source": [
    "def class_parcer(class_obj):\n",
    "    for i in class_obj:\n",
    "        i.syllabus()"
   ]
  },
  {
   "cell_type": "code",
   "execution_count": 5,
   "id": "f31bd837-2bba-481c-96d1-e481259b4bd2",
   "metadata": {},
   "outputs": [],
   "source": [
    "data_science = data_science()\n",
    "web_dev = web_dev()"
   ]
  },
  {
   "cell_type": "code",
   "execution_count": 6,
   "id": "c647eb05-af08-4103-9dec-60126c44e911",
   "metadata": {},
   "outputs": [],
   "source": [
    "class_obj =[data_science, web_dev]"
   ]
  },
  {
   "cell_type": "code",
   "execution_count": 7,
   "id": "9f6297f9-707b-4bc5-9022-d0a0abebc82c",
   "metadata": {},
   "outputs": [
    {
     "name": "stdout",
     "output_type": "stream",
     "text": [
      "this is my data_science\n",
      "this is my web_dev\n"
     ]
    }
   ],
   "source": [
    "class_parcer(class_obj)"
   ]
  },
  {
   "cell_type": "code",
   "execution_count": 15,
   "id": "ac7035df-b5bc-4041-92e9-44aab6d7e9fc",
   "metadata": {},
   "outputs": [],
   "source": [
    "def deco(func):\n",
    "    def inner_dec():\n",
    "        print(\"start\")\n",
    "        func()\n",
    "        print(\"end\")\n",
    "    return inner_dec"
   ]
  },
  {
   "cell_type": "code",
   "execution_count": 16,
   "id": "fbb2a53d-762b-400b-a3a3-3f933056ca97",
   "metadata": {},
   "outputs": [],
   "source": [
    "@deco\n",
    "def test1():\n",
    "    print(6+7)"
   ]
  },
  {
   "cell_type": "code",
   "execution_count": 17,
   "id": "72945e71-873f-4610-aad5-0a0a68ce6065",
   "metadata": {},
   "outputs": [],
   "source": [
    "def arif(func):\n",
    "    def adil_dec():\n",
    "        print(\"innnn\")\n",
    "        func()\n",
    "        print(\"goooo\")\n",
    "    return adil_dec()"
   ]
  },
  {
   "cell_type": "code",
   "execution_count": 18,
   "id": "906901c6-07cd-4da6-8edc-55dcf6b4fb43",
   "metadata": {},
   "outputs": [
    {
     "name": "stdout",
     "output_type": "stream",
     "text": [
      "innnn\n",
      "6\n",
      "goooo\n"
     ]
    }
   ],
   "source": [
    "@arif\n",
    "def jadu():\n",
    "    print(2*3)\n",
    "    "
   ]
  },
  {
   "cell_type": "code",
   "execution_count": 19,
   "id": "aab9123b-0610-4389-82dd-cda0d4a9db78",
   "metadata": {},
   "outputs": [],
   "source": [
    "def ash(pokebol):\n",
    "    def go_pokemon():\n",
    "        print(\"goo\")\n",
    "        pokebol()\n",
    "        print(\"goo\")\n",
    "    return go_pokemon()"
   ]
  },
  {
   "cell_type": "code",
   "execution_count": 20,
   "id": "afabcee5-6ecd-41b1-9120-731f1ca47c58",
   "metadata": {},
   "outputs": [
    {
     "name": "stdout",
     "output_type": "stream",
     "text": [
      "goo\n",
      "pikachuu\n",
      "goo\n"
     ]
    }
   ],
   "source": [
    "@ash\n",
    "def caught():\n",
    "    print(\"pikachuu\")\n",
    "    "
   ]
  },
  {
   "cell_type": "code",
   "execution_count": null,
   "id": "5f828575-13a8-4cab-93c1-3248b4cc9c41",
   "metadata": {},
   "outputs": [],
   "source": []
  }
 ],
 "metadata": {
  "kernelspec": {
   "display_name": "Python 3 (ipykernel)",
   "language": "python",
   "name": "python3"
  },
  "language_info": {
   "codemirror_mode": {
    "name": "ipython",
    "version": 3
   },
   "file_extension": ".py",
   "mimetype": "text/x-python",
   "name": "python",
   "nbconvert_exporter": "python",
   "pygments_lexer": "ipython3",
   "version": "3.13.1"
  }
 },
 "nbformat": 4,
 "nbformat_minor": 5
}
