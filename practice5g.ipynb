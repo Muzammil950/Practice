{
 "cells": [
  {
   "cell_type": "markdown",
   "id": "539a452a-230e-4cae-b700-eda692dd8d16",
   "metadata": {},
   "source": [
    "# List"
   ]
  },
  {
   "cell_type": "code",
   "execution_count": 1,
   "id": "91361d39-18ee-4070-a410-80200b8f806e",
   "metadata": {},
   "outputs": [],
   "source": [
    "l = [1,453,45,'sudh',True,5+7j,345.65]"
   ]
  },
  {
   "cell_type": "code",
   "execution_count": 2,
   "id": "d0e459a0-e3d8-4a6d-ba5f-afe4dbef288e",
   "metadata": {},
   "outputs": [
    {
     "data": {
      "text/plain": [
       "list"
      ]
     },
     "execution_count": 2,
     "metadata": {},
     "output_type": "execute_result"
    }
   ],
   "source": [
    "type(l)"
   ]
  },
  {
   "cell_type": "code",
   "execution_count": 3,
   "id": "29b6976b-4e99-4562-b16d-0bcdec266d42",
   "metadata": {},
   "outputs": [
    {
     "data": {
      "text/plain": [
       "1"
      ]
     },
     "execution_count": 3,
     "metadata": {},
     "output_type": "execute_result"
    }
   ],
   "source": [
    "l[0]"
   ]
  },
  {
   "cell_type": "code",
   "execution_count": 4,
   "id": "87af4e52-a6db-41a7-9e05-ed83488ec79a",
   "metadata": {},
   "outputs": [
    {
     "data": {
      "text/plain": [
       "345.65"
      ]
     },
     "execution_count": 4,
     "metadata": {},
     "output_type": "execute_result"
    }
   ],
   "source": [
    "l[6]"
   ]
  },
  {
   "cell_type": "code",
   "execution_count": 5,
   "id": "020c644b-0cf4-4a18-9965-7f116b27fa57",
   "metadata": {},
   "outputs": [
    {
     "data": {
      "text/plain": [
       "[1, 453, 45]"
      ]
     },
     "execution_count": 5,
     "metadata": {},
     "output_type": "execute_result"
    }
   ],
   "source": [
    "l[0:3]"
   ]
  },
  {
   "cell_type": "code",
   "execution_count": 6,
   "id": "db75b79f-3cca-4fd7-b27b-836f830ff516",
   "metadata": {},
   "outputs": [
    {
     "data": {
      "text/plain": [
       "345.65"
      ]
     },
     "execution_count": 6,
     "metadata": {},
     "output_type": "execute_result"
    }
   ],
   "source": [
    "l[-1]"
   ]
  },
  {
   "cell_type": "code",
   "execution_count": 7,
   "id": "dee289cf-3a7a-4f92-a703-e5f41092449a",
   "metadata": {},
   "outputs": [
    {
     "data": {
      "text/plain": [
       "[345.65, (5+7j), True, 'sudh', 45, 453, 1]"
      ]
     },
     "execution_count": 7,
     "metadata": {},
     "output_type": "execute_result"
    }
   ],
   "source": [
    "l[::-1]"
   ]
  },
  {
   "cell_type": "code",
   "execution_count": 8,
   "id": "9d23e162-892e-403c-93da-6db138702ad3",
   "metadata": {},
   "outputs": [
    {
     "data": {
      "text/plain": [
       "[1, 45, True, 345.65]"
      ]
     },
     "execution_count": 8,
     "metadata": {},
     "output_type": "execute_result"
    }
   ],
   "source": [
    "l[::2]"
   ]
  },
  {
   "cell_type": "code",
   "execution_count": 12,
   "id": "e2ed79e1-3f50-47a4-b8e5-7106f2c50b02",
   "metadata": {},
   "outputs": [
    {
     "data": {
      "text/plain": [
       "[1, 453, 45, 'sudh', True, (5+7j), 345.65]"
      ]
     },
     "execution_count": 12,
     "metadata": {},
     "output_type": "execute_result"
    }
   ],
   "source": [
    "l"
   ]
  },
  {
   "cell_type": "code",
   "execution_count": 13,
   "id": "9e3e4db5-1441-4c97-93c2-142755551185",
   "metadata": {},
   "outputs": [
    {
     "data": {
      "text/plain": [
       "'su'"
      ]
     },
     "execution_count": 13,
     "metadata": {},
     "output_type": "execute_result"
    }
   ],
   "source": [
    "l[3][0:2]"
   ]
  },
  {
   "cell_type": "code",
   "execution_count": 14,
   "id": "82adfe29-e077-4957-8e58-e72c1e2b6cf7",
   "metadata": {},
   "outputs": [
    {
     "data": {
      "text/plain": [
       "True"
      ]
     },
     "execution_count": 14,
     "metadata": {},
     "output_type": "execute_result"
    }
   ],
   "source": [
    "l[4]"
   ]
  },
  {
   "cell_type": "code",
   "execution_count": 21,
   "id": "2e178ca2-2a22-4431-b219-63bd5b4e1c46",
   "metadata": {},
   "outputs": [],
   "source": [
    "l1 = [3,4,5]"
   ]
  },
  {
   "cell_type": "code",
   "execution_count": 22,
   "id": "a30bf883-d781-4ecd-aef6-1acaaecc59d8",
   "metadata": {},
   "outputs": [
    {
     "data": {
      "text/plain": [
       "[1, 453, 45, 'sudh', True, (5+7j), 345.65, 3, 4, 5]"
      ]
     },
     "execution_count": 22,
     "metadata": {},
     "output_type": "execute_result"
    }
   ],
   "source": [
    "l + l1"
   ]
  },
  {
   "cell_type": "code",
   "execution_count": 23,
   "id": "ec590531-6ced-4ff0-b28d-7e73a7c7ce38",
   "metadata": {},
   "outputs": [
    {
     "data": {
      "text/plain": [
       "[3, 4, 5, 3, 4, 5, 3, 4, 5]"
      ]
     },
     "execution_count": 23,
     "metadata": {},
     "output_type": "execute_result"
    }
   ],
   "source": [
    "l1 * 3"
   ]
  },
  {
   "cell_type": "code",
   "execution_count": 24,
   "id": "7d990895-070b-45f6-a970-f822cd7fe7ba",
   "metadata": {},
   "outputs": [
    {
     "data": {
      "text/plain": [
       "7"
      ]
     },
     "execution_count": 24,
     "metadata": {},
     "output_type": "execute_result"
    }
   ],
   "source": [
    "len(l)"
   ]
  },
  {
   "cell_type": "code",
   "execution_count": 25,
   "id": "efa5a222-8f9f-42c7-877e-bc5cc866efcc",
   "metadata": {},
   "outputs": [],
   "source": [
    "l.append(5)"
   ]
  },
  {
   "cell_type": "code",
   "execution_count": 26,
   "id": "a76c5d27-8521-47ab-a70b-900554dfe3c5",
   "metadata": {},
   "outputs": [
    {
     "data": {
      "text/plain": [
       "[1, 453, 45, 'sudh', True, (5+7j), 345.65, 5]"
      ]
     },
     "execution_count": 26,
     "metadata": {},
     "output_type": "execute_result"
    }
   ],
   "source": [
    "l"
   ]
  },
  {
   "cell_type": "code",
   "execution_count": 27,
   "id": "5081566d-024c-47c2-8616-6f3b532411f1",
   "metadata": {},
   "outputs": [],
   "source": [
    "s = 'pwskills'"
   ]
  },
  {
   "cell_type": "code",
   "execution_count": 31,
   "id": "87432962-69fe-4e3c-adeb-73b935f367a9",
   "metadata": {},
   "outputs": [
    {
     "name": "stdout",
     "output_type": "stream",
     "text": [
      "[1, 453, 45, 'sudh', True, (5+7j), 345.65, 5, 'pwskills', 'pwskills', 'pwskills', 'pwskills']\n"
     ]
    }
   ],
   "source": [
    "l.append(s)\n",
    "print(l)"
   ]
  },
  {
   "cell_type": "code",
   "execution_count": 32,
   "id": "83def010-279f-48f3-bddd-9b23cc62b184",
   "metadata": {},
   "outputs": [],
   "source": [
    "l.append(l1)"
   ]
  },
  {
   "cell_type": "code",
   "execution_count": 33,
   "id": "e652752b-064c-4524-8c41-f1fd695afa0b",
   "metadata": {},
   "outputs": [
    {
     "data": {
      "text/plain": [
       "[1,\n",
       " 453,\n",
       " 45,\n",
       " 'sudh',\n",
       " True,\n",
       " (5+7j),\n",
       " 345.65,\n",
       " 5,\n",
       " 'pwskills',\n",
       " 'pwskills',\n",
       " 'pwskills',\n",
       " 'pwskills',\n",
       " [3, 4, 5]]"
      ]
     },
     "execution_count": 33,
     "metadata": {},
     "output_type": "execute_result"
    }
   ],
   "source": [
    "l"
   ]
  },
  {
   "cell_type": "code",
   "execution_count": 34,
   "id": "539f2158-1ce8-4bb8-ab8c-66bc39e3a58a",
   "metadata": {},
   "outputs": [
    {
     "data": {
      "text/plain": [
       "[1,\n",
       " 453,\n",
       " 45,\n",
       " 'sudh',\n",
       " True,\n",
       " (5+7j),\n",
       " 345.65,\n",
       " 5,\n",
       " 'pwskills',\n",
       " 'pwskills',\n",
       " 'pwskills',\n",
       " 'pwskills',\n",
       " [3, 4, 5]]"
      ]
     },
     "execution_count": 34,
     "metadata": {},
     "output_type": "execute_result"
    }
   ],
   "source": [
    "l"
   ]
  },
  {
   "cell_type": "code",
   "execution_count": 35,
   "id": "3bdd219b-0ab4-4ed5-810b-ba6d87301b92",
   "metadata": {},
   "outputs": [],
   "source": [
    "l = [1, 455, 454, 'sudh', True, (5+7j), 345.65, [3, 4, 5]]\n"
   ]
  },
  {
   "cell_type": "code",
   "execution_count": 36,
   "id": "0bfe4ac6-7786-458f-9e63-c3ef13c8f1e1",
   "metadata": {},
   "outputs": [
    {
     "data": {
      "text/plain": [
       "4"
      ]
     },
     "execution_count": 36,
     "metadata": {},
     "output_type": "execute_result"
    }
   ],
   "source": [
    "l[-1][1]"
   ]
  },
  {
   "cell_type": "code",
   "execution_count": 37,
   "id": "b44e64fd-29f7-458f-a5ab-fc349ac66b1d",
   "metadata": {},
   "outputs": [
    {
     "ename": "TypeError",
     "evalue": "'int' object is not iterable",
     "output_type": "error",
     "traceback": [
      "\u001b[31m---------------------------------------------------------------------------\u001b[39m",
      "\u001b[31mTypeError\u001b[39m                                 Traceback (most recent call last)",
      "\u001b[36mCell\u001b[39m\u001b[36m \u001b[39m\u001b[32mIn[37]\u001b[39m\u001b[32m, line 1\u001b[39m\n\u001b[32m----> \u001b[39m\u001b[32m1\u001b[39m \u001b[43ml\u001b[49m\u001b[43m.\u001b[49m\u001b[43mextend\u001b[49m\u001b[43m(\u001b[49m\u001b[32;43m4\u001b[39;49m\u001b[43m)\u001b[49m\n",
      "\u001b[31mTypeError\u001b[39m: 'int' object is not iterable"
     ]
    }
   ],
   "source": [
    "l.extend(4)"
   ]
  },
  {
   "cell_type": "code",
   "execution_count": 38,
   "id": "a2d10acf-cf8d-4c71-afba-dbb352d75587",
   "metadata": {},
   "outputs": [],
   "source": [
    "l.extend('sudh')"
   ]
  },
  {
   "cell_type": "code",
   "execution_count": 39,
   "id": "56908169-7efe-4c13-b317-c98191fe2a81",
   "metadata": {},
   "outputs": [
    {
     "data": {
      "text/plain": [
       "[1, 455, 454, 'sudh', True, (5+7j), 345.65, [3, 4, 5], 's', 'u', 'd', 'h']"
      ]
     },
     "execution_count": 39,
     "metadata": {},
     "output_type": "execute_result"
    }
   ],
   "source": [
    "l"
   ]
  },
  {
   "cell_type": "code",
   "execution_count": 40,
   "id": "af033624-8d60-4a66-854d-ade253f6b47c",
   "metadata": {},
   "outputs": [],
   "source": [
    "l.extend([2,3,4])"
   ]
  },
  {
   "cell_type": "code",
   "execution_count": 41,
   "id": "6266be83-ed77-48c2-9ca1-562eb29f4ae9",
   "metadata": {},
   "outputs": [
    {
     "data": {
      "text/plain": [
       "[1,\n",
       " 455,\n",
       " 454,\n",
       " 'sudh',\n",
       " True,\n",
       " (5+7j),\n",
       " 345.65,\n",
       " [3, 4, 5],\n",
       " 's',\n",
       " 'u',\n",
       " 'd',\n",
       " 'h',\n",
       " 2,\n",
       " 3,\n",
       " 4]"
      ]
     },
     "execution_count": 41,
     "metadata": {},
     "output_type": "execute_result"
    }
   ],
   "source": [
    "l"
   ]
  },
  {
   "cell_type": "code",
   "execution_count": 42,
   "id": "6ed94f7d-1813-4bd3-a797-a8e54337b390",
   "metadata": {},
   "outputs": [
    {
     "data": {
      "text/plain": [
       "[3, 4, 5]"
      ]
     },
     "execution_count": 42,
     "metadata": {},
     "output_type": "execute_result"
    }
   ],
   "source": [
    "l1"
   ]
  },
  {
   "cell_type": "code",
   "execution_count": 43,
   "id": "b65127b8-20b1-438b-aef5-0c4cd16c8a09",
   "metadata": {},
   "outputs": [],
   "source": [
    "l1.insert(1,400)"
   ]
  },
  {
   "cell_type": "code",
   "execution_count": 44,
   "id": "1ce23455-106e-4f1e-86e1-2dad57ae8c10",
   "metadata": {},
   "outputs": [
    {
     "data": {
      "text/plain": [
       "[3, 400, 4, 5]"
      ]
     },
     "execution_count": 44,
     "metadata": {},
     "output_type": "execute_result"
    }
   ],
   "source": [
    "l1"
   ]
  },
  {
   "cell_type": "code",
   "execution_count": 45,
   "id": "7414f858-13ba-4b7e-8ab4-bc2ccb039d16",
   "metadata": {},
   "outputs": [],
   "source": [
    "l1.insert(2,'sudh')"
   ]
  },
  {
   "cell_type": "code",
   "execution_count": 46,
   "id": "6755c6e5-9f97-4ad7-a2fb-163dead74c66",
   "metadata": {},
   "outputs": [
    {
     "data": {
      "text/plain": [
       "[3, 400, 'sudh', 4, 5]"
      ]
     },
     "execution_count": 46,
     "metadata": {},
     "output_type": "execute_result"
    }
   ],
   "source": [
    "l1"
   ]
  },
  {
   "cell_type": "code",
   "execution_count": 47,
   "id": "ca987234-88df-487b-894b-c694b89d4c3c",
   "metadata": {},
   "outputs": [],
   "source": [
    "l1.insert(3,[4,5,6])"
   ]
  },
  {
   "cell_type": "code",
   "execution_count": 48,
   "id": "34eaae45-c1a5-47dd-98db-eccfb78a2e36",
   "metadata": {},
   "outputs": [
    {
     "data": {
      "text/plain": [
       "[3, 400, 'sudh', [4, 5, 6], 4, 5]"
      ]
     },
     "execution_count": 48,
     "metadata": {},
     "output_type": "execute_result"
    }
   ],
   "source": [
    "l1"
   ]
  },
  {
   "cell_type": "code",
   "execution_count": 49,
   "id": "75400453-1558-4dba-aa73-4b3e0f855cad",
   "metadata": {},
   "outputs": [],
   "source": [
    "l1.insert(-1,45)"
   ]
  },
  {
   "cell_type": "code",
   "execution_count": 50,
   "id": "3f3a2d82-3633-4556-9642-b1b6b159bf23",
   "metadata": {},
   "outputs": [
    {
     "data": {
      "text/plain": [
       "[3, 400, 'sudh', [4, 5, 6], 4, 45, 5]"
      ]
     },
     "execution_count": 50,
     "metadata": {},
     "output_type": "execute_result"
    }
   ],
   "source": [
    "l1"
   ]
  },
  {
   "cell_type": "code",
   "execution_count": 51,
   "id": "15bfb4b2-0ea8-401c-9b6e-d6a3c5884daa",
   "metadata": {},
   "outputs": [
    {
     "data": {
      "text/plain": [
       "'sudh'"
      ]
     },
     "execution_count": 51,
     "metadata": {},
     "output_type": "execute_result"
    }
   ],
   "source": [
    "l1.pop(2)"
   ]
  },
  {
   "cell_type": "code",
   "execution_count": 52,
   "id": "8afce3d4-2fa3-40fa-b1fc-f23fee4f04c8",
   "metadata": {},
   "outputs": [
    {
     "data": {
      "text/plain": [
       "[3, 400, [4, 5, 6], 4, 45, 5]"
      ]
     },
     "execution_count": 52,
     "metadata": {},
     "output_type": "execute_result"
    }
   ],
   "source": [
    "l1"
   ]
  },
  {
   "cell_type": "code",
   "execution_count": 53,
   "id": "4d24e277-eff4-451a-97c1-289cd9b4855b",
   "metadata": {},
   "outputs": [
    {
     "data": {
      "text/plain": [
       "45"
      ]
     },
     "execution_count": 53,
     "metadata": {},
     "output_type": "execute_result"
    }
   ],
   "source": [
    "l1.pop(4)"
   ]
  },
  {
   "cell_type": "code",
   "execution_count": 54,
   "id": "1317c889-e219-4246-8843-6030bc00355a",
   "metadata": {},
   "outputs": [
    {
     "data": {
      "text/plain": [
       "[3, 400, [4, 5, 6], 4, 5]"
      ]
     },
     "execution_count": 54,
     "metadata": {},
     "output_type": "execute_result"
    }
   ],
   "source": [
    "l1"
   ]
  },
  {
   "cell_type": "code",
   "execution_count": 55,
   "id": "222be7e7-c514-49cc-b3bc-efa31cb70264",
   "metadata": {},
   "outputs": [
    {
     "data": {
      "text/plain": [
       "4"
      ]
     },
     "execution_count": 55,
     "metadata": {},
     "output_type": "execute_result"
    }
   ],
   "source": [
    "l1.pop(3)"
   ]
  },
  {
   "cell_type": "code",
   "execution_count": 56,
   "id": "dab1236f-c2ea-4f58-9838-4093a8bde35e",
   "metadata": {},
   "outputs": [
    {
     "data": {
      "text/plain": [
       "[3, 400, [4, 5, 6], 5]"
      ]
     },
     "execution_count": 56,
     "metadata": {},
     "output_type": "execute_result"
    }
   ],
   "source": [
    "l1"
   ]
  },
  {
   "cell_type": "code",
   "execution_count": 57,
   "id": "789bdfaa-85b8-40f6-827b-8ec71aacbd58",
   "metadata": {},
   "outputs": [
    {
     "data": {
      "text/plain": [
       "[4, 5, 6]"
      ]
     },
     "execution_count": 57,
     "metadata": {},
     "output_type": "execute_result"
    }
   ],
   "source": [
    "l1.pop(2)"
   ]
  },
  {
   "cell_type": "code",
   "execution_count": 59,
   "id": "3c3f57c1-1177-45fa-adf8-5ac3541be8bf",
   "metadata": {},
   "outputs": [
    {
     "data": {
      "text/plain": [
       "[3, 400, 5]"
      ]
     },
     "execution_count": 59,
     "metadata": {},
     "output_type": "execute_result"
    }
   ],
   "source": [
    "l1"
   ]
  },
  {
   "cell_type": "code",
   "execution_count": 60,
   "id": "b778a0c3-419a-47a4-b9ab-ad8d8feb4b15",
   "metadata": {},
   "outputs": [],
   "source": [
    "l1.remove(400)"
   ]
  },
  {
   "cell_type": "code",
   "execution_count": 61,
   "id": "6a64bf8d-3293-44c6-a6ca-cafc03e70ccf",
   "metadata": {},
   "outputs": [
    {
     "data": {
      "text/plain": [
       "[3, 5]"
      ]
     },
     "execution_count": 61,
     "metadata": {},
     "output_type": "execute_result"
    }
   ],
   "source": [
    "l1"
   ]
  },
  {
   "cell_type": "code",
   "execution_count": 62,
   "id": "01629262-b83b-450b-8732-9373eb75295f",
   "metadata": {},
   "outputs": [],
   "source": [
    "l1.append([2,4,5])"
   ]
  },
  {
   "cell_type": "code",
   "execution_count": 63,
   "id": "9a592b82-75d7-421c-bf1b-126c2e9df546",
   "metadata": {},
   "outputs": [
    {
     "data": {
      "text/plain": [
       "[3, 5, [2, 4, 5]]"
      ]
     },
     "execution_count": 63,
     "metadata": {},
     "output_type": "execute_result"
    }
   ],
   "source": [
    "l1"
   ]
  },
  {
   "cell_type": "code",
   "execution_count": 64,
   "id": "8a11fd2d-a293-41e5-b76a-9c7f11b9da82",
   "metadata": {},
   "outputs": [],
   "source": [
    "l1[2].remove(4)"
   ]
  },
  {
   "cell_type": "code",
   "execution_count": 65,
   "id": "33900f25-8f1b-4132-990c-e8da9ea7bd4d",
   "metadata": {},
   "outputs": [
    {
     "data": {
      "text/plain": [
       "[3, 5, [2, 5]]"
      ]
     },
     "execution_count": 65,
     "metadata": {},
     "output_type": "execute_result"
    }
   ],
   "source": [
    "l1"
   ]
  },
  {
   "cell_type": "code",
   "execution_count": 69,
   "id": "879e5bba-5ac9-4464-bcc8-1856801191c6",
   "metadata": {},
   "outputs": [],
   "source": [
    "l1.reverse()"
   ]
  },
  {
   "cell_type": "code",
   "execution_count": 70,
   "id": "a9dd6a94-57aa-4162-b474-456483a8842c",
   "metadata": {},
   "outputs": [
    {
     "data": {
      "text/plain": [
       "[[2, 5], 5, 3]"
      ]
     },
     "execution_count": 70,
     "metadata": {},
     "output_type": "execute_result"
    }
   ],
   "source": [
    "l1"
   ]
  },
  {
   "cell_type": "code",
   "execution_count": 74,
   "id": "579fd6b4-570a-4981-ae61-a22e3d1d988f",
   "metadata": {},
   "outputs": [],
   "source": [
    "l2 = [8,2,3,4,5,6,7,18,82,32,]"
   ]
  },
  {
   "cell_type": "code",
   "execution_count": 76,
   "id": "f3cf7c5e-d3f6-4a39-bab7-35c2f2e1eb9b",
   "metadata": {},
   "outputs": [],
   "source": [
    "l2.sort()"
   ]
  },
  {
   "cell_type": "code",
   "execution_count": 77,
   "id": "8608935c-a918-489a-8b19-ef6dd5b7e85d",
   "metadata": {},
   "outputs": [
    {
     "data": {
      "text/plain": [
       "[2, 3, 4, 5, 6, 7, 8, 18, 32, 82]"
      ]
     },
     "execution_count": 77,
     "metadata": {},
     "output_type": "execute_result"
    }
   ],
   "source": [
    "l2"
   ]
  },
  {
   "cell_type": "code",
   "execution_count": 78,
   "id": "8cebfb7d-efc0-4bdf-a998-abcc3df63798",
   "metadata": {},
   "outputs": [],
   "source": [
    "l3 = ['sudh','kumar','pwskills','data science']"
   ]
  },
  {
   "cell_type": "code",
   "execution_count": 79,
   "id": "bb61eb85-0d58-4684-84f5-7aea5bd65ff4",
   "metadata": {},
   "outputs": [],
   "source": [
    "l3.sort()"
   ]
  },
  {
   "cell_type": "code",
   "execution_count": 80,
   "id": "4679d018-e6ac-4ff8-a8bb-cac2b55869b6",
   "metadata": {},
   "outputs": [
    {
     "data": {
      "text/plain": [
       "['data science', 'kumar', 'pwskills', 'sudh']"
      ]
     },
     "execution_count": 80,
     "metadata": {},
     "output_type": "execute_result"
    }
   ],
   "source": [
    "l3"
   ]
  },
  {
   "cell_type": "code",
   "execution_count": 81,
   "id": "bfa3cdf8-c39a-408e-8551-65c6d9a079cb",
   "metadata": {},
   "outputs": [],
   "source": [
    "l2.sort(reverse=True)"
   ]
  },
  {
   "cell_type": "code",
   "execution_count": 82,
   "id": "7e96fe3e-7b1a-4bfd-82d9-959e10ec88c3",
   "metadata": {},
   "outputs": [
    {
     "data": {
      "text/plain": [
       "[82, 32, 18, 8, 7, 6, 5, 4, 3, 2]"
      ]
     },
     "execution_count": 82,
     "metadata": {},
     "output_type": "execute_result"
    }
   ],
   "source": [
    "l2"
   ]
  },
  {
   "cell_type": "code",
   "execution_count": 83,
   "id": "d1df424d-3501-4b12-91dc-5182115c5b7d",
   "metadata": {},
   "outputs": [
    {
     "data": {
      "text/plain": [
       "3"
      ]
     },
     "execution_count": 83,
     "metadata": {},
     "output_type": "execute_result"
    }
   ],
   "source": [
    "l3.index('sudh')"
   ]
  },
  {
   "cell_type": "code",
   "execution_count": 85,
   "id": "4b3a95a1-4945-4e3b-9a9d-32a28e2e3e56",
   "metadata": {},
   "outputs": [
    {
     "data": {
      "text/plain": [
       "1"
      ]
     },
     "execution_count": 85,
     "metadata": {},
     "output_type": "execute_result"
    }
   ],
   "source": [
    "l3.count('sudh')"
   ]
  },
  {
   "cell_type": "code",
   "execution_count": 86,
   "id": "8c83ae00-3f26-4f93-ab0f-511620aa3c37",
   "metadata": {},
   "outputs": [],
   "source": [
    "s = 'sudh'"
   ]
  },
  {
   "cell_type": "code",
   "execution_count": 87,
   "id": "1f87139a-a78c-4e01-bd92-fde856717bf5",
   "metadata": {},
   "outputs": [
    {
     "data": {
      "text/plain": [
       "'audh'"
      ]
     },
     "execution_count": 87,
     "metadata": {},
     "output_type": "execute_result"
    }
   ],
   "source": [
    "s.replace('s','a')"
   ]
  },
  {
   "cell_type": "markdown",
   "id": "81594cbc-2130-4eda-a6b3-8e3c9cbf72d7",
   "metadata": {},
   "source": [
    "# Tuple"
   ]
  },
  {
   "cell_type": "code",
   "execution_count": 89,
   "id": "602249ee-0805-4dc1-85b3-b81058329d70",
   "metadata": {},
   "outputs": [],
   "source": [
    "t = (2,3,4,5,'sudh',45.56,False,45+4j)"
   ]
  },
  {
   "cell_type": "code",
   "execution_count": 90,
   "id": "207cf466-87b4-4e6b-ac12-3b9da962c898",
   "metadata": {},
   "outputs": [
    {
     "data": {
      "text/plain": [
       "tuple"
      ]
     },
     "execution_count": 90,
     "metadata": {},
     "output_type": "execute_result"
    }
   ],
   "source": [
    "type(t)"
   ]
  },
  {
   "cell_type": "code",
   "execution_count": 91,
   "id": "d37c7f9c-758f-4df7-a43d-62018d0f7bfb",
   "metadata": {},
   "outputs": [
    {
     "data": {
      "text/plain": [
       "8"
      ]
     },
     "execution_count": 91,
     "metadata": {},
     "output_type": "execute_result"
    }
   ],
   "source": [
    "len(t)"
   ]
  },
  {
   "cell_type": "code",
   "execution_count": 92,
   "id": "fd669dee-2cad-4f87-82dd-8e2d6a716ef0",
   "metadata": {},
   "outputs": [
    {
     "data": {
      "text/plain": [
       "2"
      ]
     },
     "execution_count": 92,
     "metadata": {},
     "output_type": "execute_result"
    }
   ],
   "source": [
    "t[0]"
   ]
  },
  {
   "cell_type": "code",
   "execution_count": 93,
   "id": "3f71897f-7c3f-43b2-b112-4989905b86f1",
   "metadata": {},
   "outputs": [
    {
     "data": {
      "text/plain": [
       "(45+4j)"
      ]
     },
     "execution_count": 93,
     "metadata": {},
     "output_type": "execute_result"
    }
   ],
   "source": [
    "t[-1]"
   ]
  },
  {
   "cell_type": "code",
   "execution_count": 95,
   "id": "79c819dc-ea10-42f9-b984-16768b23ffca",
   "metadata": {},
   "outputs": [
    {
     "data": {
      "text/plain": [
       "((45+4j), False, 45.56, 'sudh', 5, 4, 3, 2)"
      ]
     },
     "execution_count": 95,
     "metadata": {},
     "output_type": "execute_result"
    }
   ],
   "source": [
    "t[::-1]"
   ]
  },
  {
   "cell_type": "code",
   "execution_count": 96,
   "id": "90da6b0d-8577-4f10-923e-f14298021aef",
   "metadata": {},
   "outputs": [
    {
     "data": {
      "text/plain": [
       "1"
      ]
     },
     "execution_count": 96,
     "metadata": {},
     "output_type": "execute_result"
    }
   ],
   "source": [
    "t.count(4)"
   ]
  },
  {
   "cell_type": "code",
   "execution_count": 97,
   "id": "4b842fc2-a2a1-410e-9e65-5cfc3ffa6126",
   "metadata": {},
   "outputs": [
    {
     "data": {
      "text/plain": [
       "6"
      ]
     },
     "execution_count": 97,
     "metadata": {},
     "output_type": "execute_result"
    }
   ],
   "source": [
    "t.index(False)"
   ]
  },
  {
   "cell_type": "markdown",
   "id": "75385ada-5cfe-4f57-b1f9-98caf5b02c5e",
   "metadata": {},
   "source": [
    "# Set"
   ]
  },
  {
   "cell_type": "code",
   "execution_count": 98,
   "id": "06737d12-6bd9-4296-9c6a-e65e0b34eddc",
   "metadata": {},
   "outputs": [],
   "source": [
    "s1 = {}"
   ]
  },
  {
   "cell_type": "code",
   "execution_count": 99,
   "id": "ac05fbac-6c2c-4c6d-a2f4-854523bf3243",
   "metadata": {},
   "outputs": [
    {
     "data": {
      "text/plain": [
       "dict"
      ]
     },
     "execution_count": 99,
     "metadata": {},
     "output_type": "execute_result"
    }
   ],
   "source": [
    "type(s1)"
   ]
  },
  {
   "cell_type": "code",
   "execution_count": 100,
   "id": "b5519810-6bb4-4f59-8c02-67313eb56fa2",
   "metadata": {},
   "outputs": [],
   "source": [
    "s2 = {2,3,4,5,6,}"
   ]
  },
  {
   "cell_type": "code",
   "execution_count": 101,
   "id": "b7c978d1-8615-4dbe-839f-4da2bd447cf7",
   "metadata": {},
   "outputs": [
    {
     "data": {
      "text/plain": [
       "set"
      ]
     },
     "execution_count": 101,
     "metadata": {},
     "output_type": "execute_result"
    }
   ],
   "source": [
    "type(s2)"
   ]
  },
  {
   "cell_type": "code",
   "execution_count": 102,
   "id": "73d2f6d9-1a02-4185-afbb-327d3a3491e8",
   "metadata": {},
   "outputs": [],
   "source": [
    "s3 = {2,3,4,5,2,3,4,52,3,4,52,3,4,5,8,6,7}"
   ]
  },
  {
   "cell_type": "code",
   "execution_count": 103,
   "id": "ef751912-39b2-451f-923b-a919c387241b",
   "metadata": {},
   "outputs": [
    {
     "data": {
      "text/plain": [
       "{2, 3, 4, 5, 6, 7, 8, 52}"
      ]
     },
     "execution_count": 103,
     "metadata": {},
     "output_type": "execute_result"
    }
   ],
   "source": [
    "s3"
   ]
  },
  {
   "cell_type": "code",
   "execution_count": 104,
   "id": "2ee61fee-8ad7-4c26-af54-8088c2063c00",
   "metadata": {},
   "outputs": [],
   "source": [
    "l9 = [2,3,4,5,2,3,4,52,3,4,52,3,4,5,8,6,7]"
   ]
  },
  {
   "cell_type": "code",
   "execution_count": 108,
   "id": "07cefdcc-d15d-4aaa-ade0-4300ef72decb",
   "metadata": {},
   "outputs": [],
   "source": [
    "l9 = list(set(l9))"
   ]
  },
  {
   "cell_type": "code",
   "execution_count": 109,
   "id": "52b889f2-299d-46d0-acc3-bb08765b5a16",
   "metadata": {},
   "outputs": [
    {
     "data": {
      "text/plain": [
       "[2, 3, 4, 5, 6, 7, 8, 52]"
      ]
     },
     "execution_count": 109,
     "metadata": {},
     "output_type": "execute_result"
    }
   ],
   "source": [
    "l9"
   ]
  },
  {
   "cell_type": "code",
   "execution_count": 110,
   "id": "e683ba02-4b52-45cf-abe9-f18686cb1f1f",
   "metadata": {},
   "outputs": [],
   "source": [
    "l9 = list(set(l9))"
   ]
  },
  {
   "cell_type": "code",
   "execution_count": 111,
   "id": "970a8f48-05b6-40ea-b27b-d5ed9f6f03b8",
   "metadata": {},
   "outputs": [],
   "source": [
    "l9 = list(set(l9))"
   ]
  },
  {
   "cell_type": "code",
   "execution_count": 112,
   "id": "15bada52-10d4-4e5a-9e67-dfe7d80f533a",
   "metadata": {},
   "outputs": [],
   "source": [
    "l9 = list(set(l9))"
   ]
  },
  {
   "cell_type": "code",
   "execution_count": 113,
   "id": "f8f6b019-e792-4cb9-ad3d-d068b127d04d",
   "metadata": {},
   "outputs": [],
   "source": [
    "l9 = list(set(l9))"
   ]
  },
  {
   "cell_type": "code",
   "execution_count": 114,
   "id": "875b7c54-ffb6-4d9c-94bf-97c3520a8c3a",
   "metadata": {},
   "outputs": [],
   "source": [
    "l9 = list(set(l9))"
   ]
  },
  {
   "cell_type": "code",
   "execution_count": 115,
   "id": "3e5c1b78-2e32-4aa8-ace1-b6990bfea5c6",
   "metadata": {},
   "outputs": [
    {
     "data": {
      "text/plain": [
       "{2, 3, 4, 5, 6, 7, 8, 52}"
      ]
     },
     "execution_count": 115,
     "metadata": {},
     "output_type": "execute_result"
    }
   ],
   "source": [
    "s3"
   ]
  },
  {
   "cell_type": "code",
   "execution_count": 116,
   "id": "65c8f8a7-6439-4c19-bdf3-6b3b889c974f",
   "metadata": {},
   "outputs": [],
   "source": [
    "s3.add(78)"
   ]
  },
  {
   "cell_type": "code",
   "execution_count": 117,
   "id": "29f4b680-02e4-4807-854e-d96d18b67404",
   "metadata": {},
   "outputs": [
    {
     "data": {
      "text/plain": [
       "{2, 3, 4, 5, 6, 7, 8, 52, 78}"
      ]
     },
     "execution_count": 117,
     "metadata": {},
     "output_type": "execute_result"
    }
   ],
   "source": [
    "s3"
   ]
  },
  {
   "cell_type": "code",
   "execution_count": 118,
   "id": "5a33c8f7-c37e-4147-81f6-cd4ca7a630c4",
   "metadata": {},
   "outputs": [],
   "source": [
    "s3.remove(2)"
   ]
  },
  {
   "cell_type": "code",
   "execution_count": null,
   "id": "5b1f02ff-a236-40bf-8ee6-e25a07c877f8",
   "metadata": {},
   "outputs": [],
   "source": [
    "s3"
   ]
  }
 ],
 "metadata": {
  "kernelspec": {
   "display_name": "Python 3 (ipykernel)",
   "language": "python",
   "name": "python3"
  },
  "language_info": {
   "codemirror_mode": {
    "name": "ipython",
    "version": 3
   },
   "file_extension": ".py",
   "mimetype": "text/x-python",
   "name": "python",
   "nbconvert_exporter": "python",
   "pygments_lexer": "ipython3",
   "version": "3.13.1"
  }
 },
 "nbformat": 4,
 "nbformat_minor": 5
}
