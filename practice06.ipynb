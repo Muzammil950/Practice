{
 "cells": [
  {
   "cell_type": "markdown",
   "id": "87e78003-23c8-44d6-aabc-7a8b8ccdbeea",
   "metadata": {},
   "source": [
    "# Polymorphism"
   ]
  },
  {
   "cell_type": "code",
   "execution_count": 1,
   "id": "06863648-423e-41b1-b4b9-6653cd72e2a4",
   "metadata": {},
   "outputs": [],
   "source": [
    "def test(a,b):\n",
    "    return a + b"
   ]
  },
  {
   "cell_type": "code",
   "execution_count": 2,
   "id": "69b54d57-3ab2-40cf-b412-e5bfacaa811b",
   "metadata": {},
   "outputs": [
    {
     "data": {
      "text/plain": [
       "5"
      ]
     },
     "execution_count": 2,
     "metadata": {},
     "output_type": "execute_result"
    }
   ],
   "source": [
    "test(2,3)"
   ]
  },
  {
   "cell_type": "code",
   "execution_count": 4,
   "id": "24c9cf4a-6826-4426-a6c8-19374a319f83",
   "metadata": {},
   "outputs": [
    {
     "data": {
      "text/plain": [
       "'adil arif'"
      ]
     },
     "execution_count": 4,
     "metadata": {},
     "output_type": "execute_result"
    }
   ],
   "source": [
    "test(\"adil \",\"arif\")"
   ]
  },
  {
   "cell_type": "code",
   "execution_count": 6,
   "id": "1c5f8c51-3758-4fe5-82ac-ce23ea9d671a",
   "metadata": {},
   "outputs": [
    {
     "data": {
      "text/plain": [
       "[1, 3, 4, 5, 6, 7, 8, 9]"
      ]
     },
     "execution_count": 6,
     "metadata": {},
     "output_type": "execute_result"
    }
   ],
   "source": [
    "test([1,3,4,5],[6,7,8,9])"
   ]
  },
  {
   "cell_type": "code",
   "execution_count": 39,
   "id": "f1203aeb-ca2b-4269-8723-e9468eb309ad",
   "metadata": {},
   "outputs": [],
   "source": [
    "class data_science:\n",
    "    def syllabus(self):\n",
    "        print(\"this is my data_science class\")\n",
    "                    "
   ]
  },
  {
   "cell_type": "code",
   "execution_count": 40,
   "id": "437d381c-2017-42e9-b8d6-e0bfa9cfdf71",
   "metadata": {},
   "outputs": [],
   "source": [
    "class web_dev:\n",
    "    def syllabus(self):\n",
    "        print(\"this is my web_dev class\")"
   ]
  },
  {
   "cell_type": "code",
   "execution_count": 41,
   "id": "00e6dfb7-ce9c-4888-9afc-69e9f703bd84",
   "metadata": {},
   "outputs": [],
   "source": [
    "def class_parcer(class_obj):\n",
    "    for i in class_obj:\n",
    "        i.syllabus()"
   ]
  },
  {
   "cell_type": "code",
   "execution_count": 42,
   "id": "93b07ff4-0d7e-4bd3-9806-cb630f46cfcd",
   "metadata": {},
   "outputs": [],
   "source": [
    "data_science = data_science()\n",
    "web_dev = web_dev()"
   ]
  },
  {
   "cell_type": "code",
   "execution_count": 43,
   "id": "ce47b5ad-46a6-4c1c-9d30-352bfc4ec865",
   "metadata": {},
   "outputs": [],
   "source": [
    "class_obj = [data_science,web_dev]"
   ]
  },
  {
   "cell_type": "code",
   "execution_count": 44,
   "id": "3ec0a822-5159-4be8-8e2b-ca551437a564",
   "metadata": {},
   "outputs": [
    {
     "name": "stdout",
     "output_type": "stream",
     "text": [
      "this is my data_science class\n",
      "this is my web_dev class\n"
     ]
    }
   ],
   "source": [
    "class_parcer(class_obj)"
   ]
  },
  {
   "cell_type": "markdown",
   "id": "78648671-cf87-445a-a0c4-54ffdee71907",
   "metadata": {},
   "source": [
    "# Encapsulation"
   ]
  },
  {
   "cell_type": "code",
   "execution_count": 45,
   "id": "2401543e-82cd-4815-b9b9-6df58f3250b6",
   "metadata": {},
   "outputs": [],
   "source": [
    "class test:\n",
    "    def __init__(self, a, b):\n",
    "        self.a = a\n",
    "        self.b = b"
   ]
  },
  {
   "cell_type": "code",
   "execution_count": 46,
   "id": "ba048b75-6b7b-4fde-b7ef-b4e162f70d94",
   "metadata": {},
   "outputs": [],
   "source": [
    "t = test(23,45)"
   ]
  },
  {
   "cell_type": "code",
   "execution_count": 48,
   "id": "10dd8a25-2a0b-43e1-87eb-155d5197f1dc",
   "metadata": {},
   "outputs": [],
   "source": [
    "t.a = 23454"
   ]
  },
  {
   "cell_type": "code",
   "execution_count": 49,
   "id": "a0d14bca-3c99-45bb-9a5e-486ab585edf5",
   "metadata": {},
   "outputs": [
    {
     "data": {
      "text/plain": [
       "23454"
      ]
     },
     "execution_count": 49,
     "metadata": {},
     "output_type": "execute_result"
    }
   ],
   "source": [
    "t.a"
   ]
  },
  {
   "cell_type": "code",
   "execution_count": 50,
   "id": "5af78723-13ff-4dbe-b6f9-e1b7046c1c5b",
   "metadata": {},
   "outputs": [
    {
     "data": {
      "text/plain": [
       "23454"
      ]
     },
     "execution_count": 50,
     "metadata": {},
     "output_type": "execute_result"
    }
   ],
   "source": [
    "t.a"
   ]
  },
  {
   "cell_type": "code",
   "execution_count": 51,
   "id": "6713df98-5691-42fb-b8ad-6eded46bbe8b",
   "metadata": {},
   "outputs": [
    {
     "data": {
      "text/plain": [
       "45"
      ]
     },
     "execution_count": 51,
     "metadata": {},
     "output_type": "execute_result"
    }
   ],
   "source": [
    "t.b"
   ]
  },
  {
   "cell_type": "code",
   "execution_count": 52,
   "id": "dab2b74d-8d80-4353-b22f-17dd591dc650",
   "metadata": {},
   "outputs": [],
   "source": [
    "t.b = 779757"
   ]
  },
  {
   "cell_type": "code",
   "execution_count": 53,
   "id": "65e451d8-72c6-4b89-9a5d-40e99a400778",
   "metadata": {},
   "outputs": [
    {
     "data": {
      "text/plain": [
       "779757"
      ]
     },
     "execution_count": 53,
     "metadata": {},
     "output_type": "execute_result"
    }
   ],
   "source": [
    "t.b"
   ]
  },
  {
   "cell_type": "code",
   "execution_count": 56,
   "id": "b6a1f004-b94f-41c4-b8e5-c420171f3484",
   "metadata": {},
   "outputs": [],
   "source": [
    "class car:\n",
    "    def __init__(self,year,make,model,speed):\n",
    "        self.__year = year\n",
    "        self.__make = make\n",
    "        self.__model = model\n",
    "        self.__speed = 0"
   ]
  },
  {
   "cell_type": "code",
   "execution_count": 57,
   "id": "e1eb3cd9-99fa-4a9f-b357-730e443ed575",
   "metadata": {},
   "outputs": [],
   "source": [
    "c = car(2021,\"toyata\",\"innova\",12)"
   ]
  },
  {
   "cell_type": "code",
   "execution_count": 58,
   "id": "cb0880b1-8c41-461b-82bb-0ad86525ae42",
   "metadata": {},
   "outputs": [
    {
     "data": {
      "text/plain": [
       "2021"
      ]
     },
     "execution_count": 58,
     "metadata": {},
     "output_type": "execute_result"
    }
   ],
   "source": [
    "c._car__year"
   ]
  },
  {
   "cell_type": "code",
   "execution_count": 59,
   "id": "baf27924-4f77-4014-bf08-4fd89bee8111",
   "metadata": {},
   "outputs": [
    {
     "data": {
      "text/plain": [
       "0"
      ]
     },
     "execution_count": 59,
     "metadata": {},
     "output_type": "execute_result"
    }
   ],
   "source": [
    "c._car__speed"
   ]
  },
  {
   "cell_type": "code",
   "execution_count": 60,
   "id": "cf8a0643-36fb-4705-a20f-8d33406e6948",
   "metadata": {},
   "outputs": [
    {
     "data": {
      "text/plain": [
       "'toyata'"
      ]
     },
     "execution_count": 60,
     "metadata": {},
     "output_type": "execute_result"
    }
   ],
   "source": [
    "c._car__make"
   ]
  },
  {
   "cell_type": "code",
   "execution_count": 77,
   "id": "3b25ce50-f26f-4ee4-8751-3712c461c0a4",
   "metadata": {},
   "outputs": [],
   "source": [
    "class car1 :\n",
    "    def __init__(bind,year,make,model,speed):\n",
    "        bind.__year = year\n",
    "        bind.__make = make\n",
    "        bind.__model = model\n",
    "        bind.__speed = 0"
   ]
  },
  {
   "cell_type": "code",
   "execution_count": 78,
   "id": "1966b7ae-ff54-4cb3-ab05-41b2dbab507f",
   "metadata": {},
   "outputs": [],
   "source": [
    "def set_speed(bind,speed):\n",
    "    bind.__speed = 0 if speed < 0 else speed\n",
    "\n",
    "def get_speed(bind):\n",
    "    return bind.__speed"
   ]
  },
  {
   "cell_type": "code",
   "execution_count": 79,
   "id": "cf04b296-3bc2-4aef-856b-07fde68c94c7",
   "metadata": {},
   "outputs": [],
   "source": [
    "c = car1(2021,\"toyata\",\"innova\",14)"
   ]
  },
  {
   "cell_type": "code",
   "execution_count": 80,
   "id": "0de5f2f4-ef54-4945-978e-cd52fb1c7437",
   "metadata": {},
   "outputs": [
    {
     "data": {
      "text/plain": [
       "'innova'"
      ]
     },
     "execution_count": 80,
     "metadata": {},
     "output_type": "execute_result"
    }
   ],
   "source": [
    "c._car1__model"
   ]
  },
  {
   "cell_type": "code",
   "execution_count": 81,
   "id": "ba7db964-4059-49b8-a27e-b9d13843d611",
   "metadata": {},
   "outputs": [
    {
     "ename": "AttributeError",
     "evalue": "'car1' object has no attribute 'set_speed'",
     "output_type": "error",
     "traceback": [
      "\u001b[31m---------------------------------------------------------------------------\u001b[39m",
      "\u001b[31mAttributeError\u001b[39m                            Traceback (most recent call last)",
      "\u001b[36mCell\u001b[39m\u001b[36m \u001b[39m\u001b[32mIn[81]\u001b[39m\u001b[32m, line 1\u001b[39m\n\u001b[32m----> \u001b[39m\u001b[32m1\u001b[39m \u001b[43mc\u001b[49m\u001b[43m.\u001b[49m\u001b[43mset_speed\u001b[49m(-\u001b[32m2345\u001b[39m)\n",
      "\u001b[31mAttributeError\u001b[39m: 'car1' object has no attribute 'set_speed'"
     ]
    }
   ],
   "source": [
    "c.set_speed(-2345)"
   ]
  },
  {
   "cell_type": "code",
   "execution_count": 82,
   "id": "cea87fd0-969d-4bc0-af20-fdaf08f78f23",
   "metadata": {},
   "outputs": [
    {
     "ename": "AttributeError",
     "evalue": "'car1' object has no attribute 'get_spped'",
     "output_type": "error",
     "traceback": [
      "\u001b[31m---------------------------------------------------------------------------\u001b[39m",
      "\u001b[31mAttributeError\u001b[39m                            Traceback (most recent call last)",
      "\u001b[36mCell\u001b[39m\u001b[36m \u001b[39m\u001b[32mIn[82]\u001b[39m\u001b[32m, line 1\u001b[39m\n\u001b[32m----> \u001b[39m\u001b[32m1\u001b[39m \u001b[43mc\u001b[49m\u001b[43m.\u001b[49m\u001b[43mget_spped\u001b[49m()\n",
      "\u001b[31mAttributeError\u001b[39m: 'car1' object has no attribute 'get_spped'"
     ]
    }
   ],
   "source": [
    "c.get_spped()"
   ]
  },
  {
   "cell_type": "code",
   "execution_count": null,
   "id": "329e97a4-d261-4255-91a2-e924b98f5d30",
   "metadata": {},
   "outputs": [],
   "source": []
  }
 ],
 "metadata": {
  "kernelspec": {
   "display_name": "Python 3 (ipykernel)",
   "language": "python",
   "name": "python3"
  },
  "language_info": {
   "codemirror_mode": {
    "name": "ipython",
    "version": 3
   },
   "file_extension": ".py",
   "mimetype": "text/x-python",
   "name": "python",
   "nbconvert_exporter": "python",
   "pygments_lexer": "ipython3",
   "version": "3.13.1"
  }
 },
 "nbformat": 4,
 "nbformat_minor": 5
}
