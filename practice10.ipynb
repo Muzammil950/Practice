{
 "cells": [
  {
   "cell_type": "code",
   "execution_count": 4,
   "id": "9fe27e36-4437-4df7-ac11-fd477e562cd0",
   "metadata": {},
   "outputs": [],
   "source": [
    "data = {\n",
    "    \"name\" : \"arif\",\n",
    "    \"email_id\" : \"arif@gmail.com\",\n",
    "    \"phone_num\" : 999999999,\n",
    "    \"subject\" : [\"data science\",\"big data\",\"data analysis\"]}\n"
   ]
  },
  {
   "cell_type": "code",
   "execution_count": 5,
   "id": "654985b3-e1fb-427f-93b7-7c58318ddce2",
   "metadata": {},
   "outputs": [],
   "source": [
    "import json"
   ]
  },
  {
   "cell_type": "code",
   "execution_count": 6,
   "id": "8dc98f07-6190-4b3a-b80b-96e31395e0fd",
   "metadata": {},
   "outputs": [],
   "source": [
    "with open(\"data.json\",\"w\") as f :\n",
    "    json.dump(data,f)"
   ]
  },
  {
   "cell_type": "code",
   "execution_count": 8,
   "id": "ab1aea8a-9bd8-484d-8a20-c09e02060851",
   "metadata": {},
   "outputs": [],
   "source": [
    "with open(\"data.json\",\"r\") as f :\n",
    "    data1 = json.load(f)"
   ]
  },
  {
   "cell_type": "code",
   "execution_count": 9,
   "id": "854c0204-fadc-4aa6-8950-a471d620de3b",
   "metadata": {},
   "outputs": [
    {
     "data": {
      "text/plain": [
       "{'name': 'arif',\n",
       " 'email_id': 'arif@gmail.com',\n",
       " 'phone_num': 999999999,\n",
       " 'subject': ['data science', 'big data', 'data analysis']}"
      ]
     },
     "execution_count": 9,
     "metadata": {},
     "output_type": "execute_result"
    }
   ],
   "source": [
    "data1"
   ]
  },
  {
   "cell_type": "code",
   "execution_count": 10,
   "id": "f3162475-2908-404a-9a73-e230b4f027be",
   "metadata": {},
   "outputs": [
    {
     "data": {
      "text/plain": [
       "'big data'"
      ]
     },
     "execution_count": 10,
     "metadata": {},
     "output_type": "execute_result"
    }
   ],
   "source": [
    "data['subject'][1]"
   ]
  },
  {
   "cell_type": "code",
   "execution_count": 11,
   "id": "73d4a0a8-6dcc-4e71-b6a9-fecee6486ca0",
   "metadata": {},
   "outputs": [],
   "source": [
    "import csv"
   ]
  },
  {
   "cell_type": "code",
   "execution_count": 12,
   "id": "5aa9c60c-b43a-4b2b-a200-4c45ed6e8bca",
   "metadata": {},
   "outputs": [],
   "source": [
    "data = [['name','email','p_num'],\n",
    "        ['arif','arif@gmail.com',99999999],\n",
    "        ['adil','adil@gmail.com',88888888]\n",
    "       ]\n",
    "        "
   ]
  },
  {
   "cell_type": "code",
   "execution_count": 13,
   "id": "d551a5d9-dba7-4781-871a-0a07d2b5a1ec",
   "metadata": {},
   "outputs": [],
   "source": [
    "with open(\"data.csv\",\"w\") as f :\n",
    "    writer = csv.writer(f)\n",
    "    for i in data :\n",
    "        writer.writerow(i)"
   ]
  },
  {
   "cell_type": "code",
   "execution_count": 14,
   "id": "41202db7-e96b-4a3c-bfb9-eee8a4260eaa",
   "metadata": {},
   "outputs": [
    {
     "name": "stdout",
     "output_type": "stream",
     "text": [
      "['name', 'email', 'p_num']\n",
      "[]\n",
      "['arif', 'arif@gmail.com', '99999999']\n",
      "[]\n",
      "['adil', 'adil@gmail.com', '88888888']\n",
      "[]\n"
     ]
    }
   ],
   "source": [
    "with open(\"data.csv\",\"r\") as f :\n",
    "    read_data = csv.reader(f)\n",
    "    for i in read_data :\n",
    "        print(i)"
   ]
  },
  {
   "cell_type": "code",
   "execution_count": 15,
   "id": "fa1ed844-3751-4667-95f2-b641f498dee0",
   "metadata": {},
   "outputs": [],
   "source": [
    "with open(\"test4.bin\",\"wb\") as f :\n",
    "    f.write(b\"\\x01\\x02\\x03\\x3454235\")"
   ]
  },
  {
   "cell_type": "code",
   "execution_count": 16,
   "id": "44a0f8c3-1917-4c8f-8e02-4eebba88a470",
   "metadata": {},
   "outputs": [
    {
     "name": "stdout",
     "output_type": "stream",
     "text": [
      "b'\\x01\\x02\\x03454235'\n"
     ]
    }
   ],
   "source": [
    "with open(\"test4.bin\",\"rb\") as f :\n",
    "    print(f.read())"
   ]
  },
  {
   "cell_type": "code",
   "execution_count": 17,
   "id": "331860f4-d85f-45cf-8778-4deeebd1352f",
   "metadata": {},
   "outputs": [],
   "source": [
    "import io"
   ]
  },
  {
   "cell_type": "code",
   "execution_count": 23,
   "id": "6a28fb0a-dcd8-42b6-862c-f9fe7dbe8832",
   "metadata": {},
   "outputs": [],
   "source": [
    "with open(\"test2.txt\",\"wb\") as f :\n",
    "    file = io.BufferedWriter(f)\n",
    "\n",
    "    file.write(b\"data is a big \\n\")\n",
    "    file.write(b\"data is my data \\n\")\n",
    "    file.flush()"
   ]
  },
  {
   "cell_type": "code",
   "execution_count": 27,
   "id": "7c927a7b-1dce-4671-be86-9268973f5f3c",
   "metadata": {},
   "outputs": [
    {
     "name": "stdout",
     "output_type": "stream",
     "text": [
      "b'data is a big \\ndata is my data \\n'\n"
     ]
    }
   ],
   "source": [
    "with open(\"test2.txt\",\"rb\") as f :\n",
    "\n",
    "    file = io.BufferedReader(f)\n",
    "    data = file.read()\n",
    "    print(data)"
   ]
  },
  {
   "cell_type": "code",
   "execution_count": null,
   "id": "f730c9ad-973e-4428-ab46-000c7c51dad7",
   "metadata": {},
   "outputs": [],
   "source": []
  }
 ],
 "metadata": {
  "kernelspec": {
   "display_name": "Python 3 (ipykernel)",
   "language": "python",
   "name": "python3"
  },
  "language_info": {
   "codemirror_mode": {
    "name": "ipython",
    "version": 3
   },
   "file_extension": ".py",
   "mimetype": "text/x-python",
   "name": "python",
   "nbconvert_exporter": "python",
   "pygments_lexer": "ipython3",
   "version": "3.13.1"
  }
 },
 "nbformat": 4,
 "nbformat_minor": 5
}
