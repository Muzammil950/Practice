{
 "cells": [
  {
   "cell_type": "markdown",
   "id": "94a1f40a-008b-439a-bd6f-d302af78ba32",
   "metadata": {},
   "source": [
    "# OBJECT ORIENTED PROGRAMMING SYSTEM"
   ]
  },
  {
   "cell_type": "code",
   "execution_count": 1,
   "id": "70bb1226-c03a-4ef6-a5b8-882c57c2616d",
   "metadata": {},
   "outputs": [],
   "source": [
    "a = 1"
   ]
  },
  {
   "cell_type": "code",
   "execution_count": 2,
   "id": "41db2801-1957-4a63-8f41-9f441c28d018",
   "metadata": {},
   "outputs": [
    {
     "name": "stdout",
     "output_type": "stream",
     "text": [
      "<class 'int'>\n"
     ]
    }
   ],
   "source": [
    "print(type(a))"
   ]
  },
  {
   "cell_type": "code",
   "execution_count": 3,
   "id": "d1b7c0f7-c061-46a7-bd99-db42bfa75904",
   "metadata": {},
   "outputs": [
    {
     "name": "stdout",
     "output_type": "stream",
     "text": [
      "<class 'str'>\n"
     ]
    }
   ],
   "source": [
    "print(type(\"pwskills\"))"
   ]
  },
  {
   "cell_type": "code",
   "execution_count": 5,
   "id": "58623343-9353-43a2-989b-a65517fa5052",
   "metadata": {},
   "outputs": [],
   "source": [
    "class test:\n",
    "    pass"
   ]
  },
  {
   "cell_type": "code",
   "execution_count": 6,
   "id": "36b8109b-e27f-4058-98e5-270728d60f0c",
   "metadata": {},
   "outputs": [],
   "source": [
    "a = test()"
   ]
  },
  {
   "cell_type": "code",
   "execution_count": 7,
   "id": "34047b04-0381-4443-8292-9b294716e231",
   "metadata": {},
   "outputs": [
    {
     "data": {
      "text/plain": [
       "__main__.test"
      ]
     },
     "execution_count": 7,
     "metadata": {},
     "output_type": "execute_result"
    }
   ],
   "source": [
    "type(a)"
   ]
  },
  {
   "cell_type": "code",
   "execution_count": 8,
   "id": "3db35336-d3de-4348-a95e-13a5a0530df8",
   "metadata": {},
   "outputs": [
    {
     "name": "stdout",
     "output_type": "stream",
     "text": [
      "<class '__main__.test'>\n"
     ]
    }
   ],
   "source": [
    "print(type(a))"
   ]
  },
  {
   "cell_type": "code",
   "execution_count": 9,
   "id": "09b2fb10-a2e0-4c5e-9467-370d02438c17",
   "metadata": {},
   "outputs": [],
   "source": [
    "class pwskills :\n",
    "\n",
    "    def welcome_msg(self):\n",
    "        print(\"welcome to pwskills\")"
   ]
  },
  {
   "cell_type": "code",
   "execution_count": 10,
   "id": "e14d8ebe-0115-4cdb-a555-5d7726c60061",
   "metadata": {},
   "outputs": [],
   "source": [
    "asif = pwskills()"
   ]
  },
  {
   "cell_type": "code",
   "execution_count": 11,
   "id": "ec95ca14-4a1d-4b61-b56c-39bbc94f02e7",
   "metadata": {},
   "outputs": [
    {
     "name": "stdout",
     "output_type": "stream",
     "text": [
      "welcome to pwskills\n"
     ]
    }
   ],
   "source": [
    "asif.welcome_msg()"
   ]
  },
  {
   "cell_type": "code",
   "execution_count": 12,
   "id": "5893135c-0954-46b0-9be7-80c95e0eefa2",
   "metadata": {},
   "outputs": [],
   "source": [
    "pandu = pwskills()"
   ]
  },
  {
   "cell_type": "code",
   "execution_count": 13,
   "id": "a173cb6c-c41f-40b2-9b5d-8f95aa64977d",
   "metadata": {},
   "outputs": [
    {
     "name": "stdout",
     "output_type": "stream",
     "text": [
      "welcome to pwskills\n"
     ]
    }
   ],
   "source": [
    "pandu.welcome_msg()"
   ]
  },
  {
   "cell_type": "code",
   "execution_count": 14,
   "id": "7e7d5b32-0732-4523-b0a8-9e9e064416a4",
   "metadata": {},
   "outputs": [],
   "source": [
    "class apnaroom :\n",
    "\n",
    "    def roomrent(self):\n",
    "        print(\"room rent is 1500\")\n",
    "        "
   ]
  },
  {
   "cell_type": "code",
   "execution_count": 15,
   "id": "141b4acf-9bd3-45a3-b795-6e0a20f0a1fa",
   "metadata": {},
   "outputs": [],
   "source": [
    "asif1 = apnaroom()"
   ]
  },
  {
   "cell_type": "code",
   "execution_count": 16,
   "id": "56fa3f95-29ac-4f8c-8802-5e126210f3c3",
   "metadata": {},
   "outputs": [
    {
     "name": "stdout",
     "output_type": "stream",
     "text": [
      "room rent is 1500\n"
     ]
    }
   ],
   "source": [
    "asif1.roomrent()"
   ]
  },
  {
   "cell_type": "code",
   "execution_count": 17,
   "id": "34c2e1d7-33ee-46d9-ac42-d004ead121ef",
   "metadata": {},
   "outputs": [],
   "source": [
    "pandu1 = apnaroom()"
   ]
  },
  {
   "cell_type": "code",
   "execution_count": 18,
   "id": "d4b6606e-8de2-4c5c-b142-42c9a6b5184d",
   "metadata": {},
   "outputs": [
    {
     "name": "stdout",
     "output_type": "stream",
     "text": [
      "room rent is 1500\n"
     ]
    }
   ],
   "source": [
    "pandu1.roomrent()"
   ]
  },
  {
   "cell_type": "code",
   "execution_count": 19,
   "id": "64ec23a5-1251-4a86-9677-2bb649e73f11",
   "metadata": {},
   "outputs": [],
   "source": [
    "class school :\n",
    "\n",
    "    def schoolfees(self):\n",
    "        print(\"school fees is 500\")\n",
    "        "
   ]
  },
  {
   "cell_type": "code",
   "execution_count": 20,
   "id": "153aedd1-d809-46cd-989a-2130c7c48860",
   "metadata": {},
   "outputs": [],
   "source": [
    "asif2 = school()"
   ]
  },
  {
   "cell_type": "code",
   "execution_count": 21,
   "id": "bb75f683-7129-4bc7-b5e3-bfed4d56deba",
   "metadata": {},
   "outputs": [
    {
     "name": "stdout",
     "output_type": "stream",
     "text": [
      "school fees is 500\n"
     ]
    }
   ],
   "source": [
    "asif2.schoolfees()"
   ]
  },
  {
   "cell_type": "code",
   "execution_count": 22,
   "id": "02723557-2b59-4d33-bd30-84475579c794",
   "metadata": {},
   "outputs": [],
   "source": [
    "class company :\n",
    "\n",
    "    def salary(self):\n",
    "        print(\"salary is 17000\")"
   ]
  },
  {
   "cell_type": "code",
   "execution_count": 23,
   "id": "838dd0e3-5f1f-42a0-b24d-b7f226176825",
   "metadata": {},
   "outputs": [],
   "source": [
    "asif3 = company()"
   ]
  },
  {
   "cell_type": "code",
   "execution_count": 24,
   "id": "63a373fc-b5dc-4807-a6e0-b11c5a344587",
   "metadata": {},
   "outputs": [
    {
     "name": "stdout",
     "output_type": "stream",
     "text": [
      "salary is 17000\n"
     ]
    }
   ],
   "source": [
    "asif3.salary()"
   ]
  },
  {
   "cell_type": "code",
   "execution_count": 25,
   "id": "3b820582-6a4f-43b7-a783-99e3df07e800",
   "metadata": {},
   "outputs": [],
   "source": [
    "pandu3 = company()"
   ]
  },
  {
   "cell_type": "code",
   "execution_count": 26,
   "id": "3e08c6d8-2520-4fa0-b166-cd320588f74d",
   "metadata": {},
   "outputs": [
    {
     "name": "stdout",
     "output_type": "stream",
     "text": [
      "salary is 17000\n"
     ]
    }
   ],
   "source": [
    "pandu3.salary()"
   ]
  },
  {
   "cell_type": "code",
   "execution_count": 27,
   "id": "3c4afa75-5cc2-480f-ab92-e4f290304287",
   "metadata": {},
   "outputs": [],
   "source": [
    "class pwskills1 :\n",
    "\n",
    "    def __init__(self , phone_no , email_id , student_id):\n",
    "        self.phone_no = phone_no\n",
    "        self.email_id = email_id\n",
    "        self.student_id = student_id\n",
    "\n",
    "    def return_student_details(self):\n",
    "        return self.phone_no , self.email_id , self.student_id"
   ]
  },
  {
   "cell_type": "code",
   "execution_count": 28,
   "id": "22f64494-01fb-4c03-99da-b2ed69c18ba5",
   "metadata": {},
   "outputs": [],
   "source": [
    "asif4 = pwskills1(999999999,'asif@gmail',100)"
   ]
  },
  {
   "cell_type": "code",
   "execution_count": 29,
   "id": "8bd20d60-ce56-4254-bb00-4c9f718b8541",
   "metadata": {},
   "outputs": [
    {
     "data": {
      "text/plain": [
       "(999999999, 'asif@gmail', 100)"
      ]
     },
     "execution_count": 29,
     "metadata": {},
     "output_type": "execute_result"
    }
   ],
   "source": [
    "asif4.return_student_details()"
   ]
  },
  {
   "cell_type": "code",
   "execution_count": 30,
   "id": "d978411e-2a1a-49c4-86bd-6d3a99344282",
   "metadata": {},
   "outputs": [],
   "source": [
    "pandu4 = pwskills1(888888888,'pandu@gmail.com',110)"
   ]
  },
  {
   "cell_type": "code",
   "execution_count": 31,
   "id": "0c7f3603-9209-4523-9d3d-9d51a05e272d",
   "metadata": {},
   "outputs": [
    {
     "data": {
      "text/plain": [
       "(888888888, 'pandu@gmail.com', 110)"
      ]
     },
     "execution_count": 31,
     "metadata": {},
     "output_type": "execute_result"
    }
   ],
   "source": [
    "pandu4.return_student_details()"
   ]
  },
  {
   "cell_type": "code",
   "execution_count": 41,
   "id": "388b04ed-aa3e-466e-8010-881e0aa716ec",
   "metadata": {},
   "outputs": [],
   "source": [
    "class pwskills1 :\n",
    "\n",
    "    def __init__(self , phone_no , email_id , student_id):\n",
    "        self.phone_no = phone_no\n",
    "        self.email_id = email_id\n",
    "        self.student_id = student_id\n",
    "\n",
    "    def return_student_details(self):\n",
    "        return self.phone_no, self.email_id, self.student_id"
   ]
  },
  {
   "cell_type": "code",
   "execution_count": 42,
   "id": "482128ca-f53a-4f8f-98f4-1ec4f8827347",
   "metadata": {},
   "outputs": [],
   "source": [
    "asif = pwskills1(99999999,'asif@gmail.com',100)"
   ]
  },
  {
   "cell_type": "code",
   "execution_count": 43,
   "id": "72f3e10d-4311-42e3-9863-d8237329e615",
   "metadata": {},
   "outputs": [
    {
     "data": {
      "text/plain": [
       "(99999999, 'asif@gmail.com', 100)"
      ]
     },
     "execution_count": 43,
     "metadata": {},
     "output_type": "execute_result"
    }
   ],
   "source": [
    "asif.return_student_details()"
   ]
  },
  {
   "cell_type": "code",
   "execution_count": 44,
   "id": "089a8e10-c99d-44a9-b04f-c00c33eab0e8",
   "metadata": {},
   "outputs": [
    {
     "data": {
      "text/plain": [
       "99999999"
      ]
     },
     "execution_count": 44,
     "metadata": {},
     "output_type": "execute_result"
    }
   ],
   "source": [
    "asif.phone_no"
   ]
  },
  {
   "cell_type": "code",
   "execution_count": 47,
   "id": "ff62aecf-6649-4c8d-9984-3cdf8fb007f6",
   "metadata": {},
   "outputs": [
    {
     "data": {
      "text/plain": [
       "'pandu@gmail.com'"
      ]
     },
     "execution_count": 47,
     "metadata": {},
     "output_type": "execute_result"
    }
   ],
   "source": [
    "pandu4.email_id"
   ]
  },
  {
   "cell_type": "code",
   "execution_count": 48,
   "id": "7c618eb5-da78-4834-9528-aaff9de45568",
   "metadata": {},
   "outputs": [],
   "source": [
    "class pwskills :\n",
    "\n",
    "    def __init__(self , phone_no , email_id , student_id):\n",
    "        self.phone_no = phone_no\n",
    "        self.email_id = email_id\n",
    "        self.student_id = student_id\n",
    "\n",
    "    def return_student_details(self):\n",
    "        return self.phone_no , self.email_id , self.student_id"
   ]
  },
  {
   "cell_type": "code",
   "execution_count": 52,
   "id": "2d914e2a-5920-4ec3-a9cd-75b05f5f2e67",
   "metadata": {},
   "outputs": [],
   "source": [
    "asif = pwskills(9999999990, 'asif@gmail.com' , 102)"
   ]
  },
  {
   "cell_type": "code",
   "execution_count": 53,
   "id": "aaab6d81-4dee-45f4-918d-53429b5cac14",
   "metadata": {},
   "outputs": [
    {
     "data": {
      "text/plain": [
       "(9999999990, 'asif@gmail.com', 102)"
      ]
     },
     "execution_count": 53,
     "metadata": {},
     "output_type": "execute_result"
    }
   ],
   "source": [
    "asif.return_student_details()"
   ]
  },
  {
   "cell_type": "code",
   "execution_count": 54,
   "id": "ad8d2455-f99b-4393-a5b3-812445b8c422",
   "metadata": {},
   "outputs": [],
   "source": [
    "class student :\n",
    "    def __init__(self , name , age ):\n",
    "        self.name = name\n",
    "        self.age = age\n",
    "\n",
    "    def student_details(self):\n",
    "        return self.name , self.age"
   ]
  },
  {
   "cell_type": "code",
   "execution_count": 55,
   "id": "b12c1614-c6e7-4466-9457-9dc630af5d4a",
   "metadata": {},
   "outputs": [],
   "source": [
    "roll1 = student('asif',24)"
   ]
  },
  {
   "cell_type": "code",
   "execution_count": 56,
   "id": "e0bf8067-bfac-41f2-9836-8d2c76b93361",
   "metadata": {},
   "outputs": [
    {
     "data": {
      "text/plain": [
       "('asif', 24)"
      ]
     },
     "execution_count": 56,
     "metadata": {},
     "output_type": "execute_result"
    }
   ],
   "source": [
    "roll1.student_details()"
   ]
  },
  {
   "cell_type": "code",
   "execution_count": 57,
   "id": "408ef51f-bf53-4753-ae4e-9f792b9a2a47",
   "metadata": {},
   "outputs": [],
   "source": [
    "roll2 = student('pandu',34)"
   ]
  },
  {
   "cell_type": "code",
   "execution_count": 58,
   "id": "f665cc43-5eaa-4433-98e9-9ae561294fb7",
   "metadata": {},
   "outputs": [
    {
     "data": {
      "text/plain": [
       "('pandu', 34)"
      ]
     },
     "execution_count": 58,
     "metadata": {},
     "output_type": "execute_result"
    }
   ],
   "source": [
    "roll2.student_details()"
   ]
  },
  {
   "cell_type": "code",
   "execution_count": 59,
   "id": "e10fab25-0f65-4e91-99f8-b4e287f9b266",
   "metadata": {},
   "outputs": [],
   "source": [
    "class car :\n",
    "    def __init__(self , brand , model):\n",
    "        self.brand = brand\n",
    "        self.model = model\n",
    "\n",
    "    def show_details(self):\n",
    "        return self.model , self.brand\n"
   ]
  },
  {
   "cell_type": "code",
   "execution_count": 61,
   "id": "119cb335-70ae-4471-8b52-2892ecae1fb2",
   "metadata": {},
   "outputs": [],
   "source": [
    "car1 = car('taarzan', 101)"
   ]
  },
  {
   "cell_type": "code",
   "execution_count": 62,
   "id": "c793e5c7-8197-42e6-84d5-bf7d104d3401",
   "metadata": {},
   "outputs": [
    {
     "data": {
      "text/plain": [
       "(101, 'taarzan')"
      ]
     },
     "execution_count": 62,
     "metadata": {},
     "output_type": "execute_result"
    }
   ],
   "source": [
    "car1.show_details()"
   ]
  },
  {
   "cell_type": "code",
   "execution_count": 67,
   "id": "ee03abba-b9ac-4678-be22-3261399cbb66",
   "metadata": {},
   "outputs": [],
   "source": [
    "class employee : \n",
    "\n",
    "    def __init__(self , name , salary):\n",
    "        self.name = name\n",
    "        self.salary = salary\n",
    "\n",
    "    def show_details(self):\n",
    "        print(f\"employee name : {self.name}\")\n",
    "        print(f\"employee salary : {self.salary}\")\n",
    "\n",
    "\n",
    "    def update_salary(self , new_salary):\n",
    "        self.salary = new_salary\n",
    "        print(f\"salary update successfully for {self.name}\")\n",
    "\n",
    "        \n",
    "\n",
    "    "
   ]
  },
  {
   "cell_type": "code",
   "execution_count": 68,
   "id": "f51dea70-4eac-44c1-88bf-f427f330d50f",
   "metadata": {},
   "outputs": [],
   "source": [
    "emp1 = employee(\"rahul\",35000)\n",
    "emp2 = employee(\"anjali\",36000)"
   ]
  },
  {
   "cell_type": "code",
   "execution_count": 69,
   "id": "d440821e-ff4b-4ffd-8e14-421973760323",
   "metadata": {},
   "outputs": [
    {
     "name": "stdout",
     "output_type": "stream",
     "text": [
      "employee name : rahul\n",
      "employee salary : 35000\n",
      "employee name : anjali\n",
      "employee salary : 36000\n"
     ]
    }
   ],
   "source": [
    "emp1.show_details()\n",
    "emp2.show_details()"
   ]
  },
  {
   "cell_type": "code",
   "execution_count": 70,
   "id": "95ba89a7-2880-4f6a-b254-56c1b9661096",
   "metadata": {},
   "outputs": [
    {
     "name": "stdout",
     "output_type": "stream",
     "text": [
      "salary update successfully for rahul\n",
      "salary update successfully for anjali\n"
     ]
    }
   ],
   "source": [
    "emp1.update_salary(40000)\n",
    "emp2.update_salary(42000)"
   ]
  },
  {
   "cell_type": "code",
   "execution_count": 72,
   "id": "647962cd-c143-4130-8ff1-b2d80f0d8044",
   "metadata": {},
   "outputs": [
    {
     "name": "stdout",
     "output_type": "stream",
     "text": [
      "after update salary\n",
      "employee name : rahul\n",
      "employee salary : 40000\n",
      "employee name : anjali\n",
      "employee salary : 42000\n"
     ]
    }
   ],
   "source": [
    "print(\"after update salary\")\n",
    "\n",
    "emp1.show_details()\n",
    "emp2.show_details()"
   ]
  },
  {
   "cell_type": "code",
   "execution_count": 1,
   "id": "122e27e3-0eea-454f-806c-49f4c8af8f21",
   "metadata": {},
   "outputs": [],
   "source": [
    "class pwskills :\n",
    "    def welcome_msg(self):\n",
    "        print(\"welcome to pw\")"
   ]
  },
  {
   "cell_type": "code",
   "execution_count": 2,
   "id": "ac106637-3046-47e2-9095-e778df8c05b8",
   "metadata": {},
   "outputs": [],
   "source": [
    "asif = pwskills()"
   ]
  },
  {
   "cell_type": "code",
   "execution_count": 3,
   "id": "fdfb3253-d729-4794-89bd-8aefb971f6f4",
   "metadata": {},
   "outputs": [
    {
     "name": "stdout",
     "output_type": "stream",
     "text": [
      "welcome to pw\n"
     ]
    }
   ],
   "source": [
    "asif.welcome_msg()"
   ]
  },
  {
   "cell_type": "code",
   "execution_count": 5,
   "id": "187b3df6-6df0-4999-873d-a2af7fa97862",
   "metadata": {},
   "outputs": [],
   "source": [
    "class pwskills :\n",
    "    def __init__(self, student_no, email_id, student_id):\n",
    "        self.student_no = student_no\n",
    "        self.email_id = email_id\n",
    "        self.student_id = student_id\n",
    "\n",
    "    def return_student_details(self):\n",
    "        return self.student_no, self.email_id, self.student_id\n",
    "        "
   ]
  },
  {
   "cell_type": "code",
   "execution_count": 7,
   "id": "ccaef82c-0589-4583-b3e8-9fdf33ac77e5",
   "metadata": {},
   "outputs": [],
   "source": [
    "asif = pwskills(99999999,\"asif@gmail.com\",120)"
   ]
  },
  {
   "cell_type": "code",
   "execution_count": 9,
   "id": "774ccf7a-9fc2-4310-a6f2-856484d3bf64",
   "metadata": {},
   "outputs": [
    {
     "data": {
      "text/plain": [
       "(99999999, 'asif@gmail.com', 120)"
      ]
     },
     "execution_count": 9,
     "metadata": {},
     "output_type": "execute_result"
    }
   ],
   "source": [
    "asif.return_student_details()"
   ]
  },
  {
   "cell_type": "code",
   "execution_count": 14,
   "id": "66bd2ea2-be10-49b0-9174-5b46dc72cefc",
   "metadata": {},
   "outputs": [
    {
     "data": {
      "text/plain": [
       "120"
      ]
     },
     "execution_count": 14,
     "metadata": {},
     "output_type": "execute_result"
    }
   ],
   "source": [
    "asif.student_id"
   ]
  },
  {
   "cell_type": "code",
   "execution_count": 44,
   "id": "09d503eb-8ff2-48f7-ae51-b9d92485bad8",
   "metadata": {},
   "outputs": [],
   "source": [
    "class students :\n",
    "\n",
    "    def __init__(self, name , age):\n",
    "        self.name = name\n",
    "        self.age = age\n",
    "\n",
    "    def student_info(self):\n",
    "        return f\"student name : {self.name}\\nstudent age : {self.age}\""
   ]
  },
  {
   "cell_type": "code",
   "execution_count": 45,
   "id": "925ae7cb-4e9e-4222-a8bd-0a0c2ca9bb2e",
   "metadata": {},
   "outputs": [],
   "source": [
    "s1 = students(\"asif\",34)"
   ]
  },
  {
   "cell_type": "code",
   "execution_count": 47,
   "id": "24075a75-3472-4c59-98af-e5dda1d98681",
   "metadata": {},
   "outputs": [
    {
     "name": "stdout",
     "output_type": "stream",
     "text": [
      "student name : asif\n",
      "student age : 34\n"
     ]
    }
   ],
   "source": [
    "print(s1.student_info())"
   ]
  },
  {
   "cell_type": "code",
   "execution_count": 68,
   "id": "fc1f8407-c145-4622-a3e4-f347db7046eb",
   "metadata": {},
   "outputs": [],
   "source": [
    "class car :\n",
    "    def __init__(self, brand , model , price):\n",
    "        self.brand = brand\n",
    "        self.model = price\n",
    "        self.price = price\n",
    "\n",
    "    def details_car(self):\n",
    "        return f\"brand name : {self.brand}\\nmodel name : {self.model}\\nprice : {self.price}\""
   ]
  },
  {
   "cell_type": "code",
   "execution_count": 69,
   "id": "1e4cd386-ae6f-468c-bdc8-ed089b3f3016",
   "metadata": {},
   "outputs": [],
   "source": [
    "car1 = car('toyota','innova',2200000)"
   ]
  },
  {
   "cell_type": "code",
   "execution_count": 70,
   "id": "d6f18499-c298-4dfb-99d4-21bec5a1961e",
   "metadata": {},
   "outputs": [
    {
     "name": "stdout",
     "output_type": "stream",
     "text": [
      "brand name : toyota\n",
      "model name : 2200000\n",
      "price : 2200000\n"
     ]
    }
   ],
   "source": [
    "print(car1.details_car())"
   ]
  },
  {
   "cell_type": "code",
   "execution_count": 71,
   "id": "b3e4b9ea-c0c5-4e99-8dc3-102f8bfd0663",
   "metadata": {},
   "outputs": [
    {
     "data": {
      "text/plain": [
       "'toyota'"
      ]
     },
     "execution_count": 71,
     "metadata": {},
     "output_type": "execute_result"
    }
   ],
   "source": [
    "car1.brand"
   ]
  },
  {
   "cell_type": "code",
   "execution_count": 72,
   "id": "fe9278ca-deae-41cc-bcfa-c311cce2b32a",
   "metadata": {},
   "outputs": [],
   "source": [
    "class employee :\n",
    "    def __init__(self, name , salary):\n",
    "        self.name = name\n",
    "        self.salary = salary\n",
    "\n",
    "    def employee_details(self):\n",
    "        return f\"employee name : {self.name}\\nemployee salary : {self.salary}\""
   ]
  },
  {
   "cell_type": "code",
   "execution_count": 73,
   "id": "aad03f31-a6a6-4ad5-a8c6-5efe85770b64",
   "metadata": {},
   "outputs": [],
   "source": [
    "emp1 = employee(\"asif\",18000)\n",
    "emp2 = employee(\"pandu\",15000)"
   ]
  },
  {
   "cell_type": "code",
   "execution_count": 78,
   "id": "5699cb22-6080-4b3e-9bb3-8b5b3f32b445",
   "metadata": {},
   "outputs": [
    {
     "name": "stdout",
     "output_type": "stream",
     "text": [
      "employee name : asif\n",
      "employee salary : 18000\n"
     ]
    }
   ],
   "source": [
    "print(emp1.employee_details())"
   ]
  },
  {
   "cell_type": "code",
   "execution_count": 3,
   "id": "1778ed6e-aaeb-462b-81c9-a5124bac32ec",
   "metadata": {},
   "outputs": [],
   "source": [
    "class student :\n",
    "\n",
    "    def __init__(self, name , age):\n",
    "        self.name = name\n",
    "        self.age = age\n",
    "\n",
    "    def student_info(self):\n",
    "        return f\"student name : {self.name}\\nstudent age : {self.age}\"\n",
    "        "
   ]
  },
  {
   "cell_type": "code",
   "execution_count": 4,
   "id": "44d79360-4595-481d-ae8b-4a94a6aafc01",
   "metadata": {},
   "outputs": [],
   "source": [
    "s1 = student(\"asif\", 24)\n",
    "s2 = student(\"pandu\",23)\n",
    "             "
   ]
  },
  {
   "cell_type": "code",
   "execution_count": 5,
   "id": "8690537e-a789-45a3-bc32-9f91b2da0c5b",
   "metadata": {},
   "outputs": [
    {
     "name": "stdout",
     "output_type": "stream",
     "text": [
      "student name : asif\n",
      "student age : 24\n"
     ]
    }
   ],
   "source": [
    "print(s1.student_info())"
   ]
  },
  {
   "cell_type": "code",
   "execution_count": 6,
   "id": "50820e48-234a-43a8-b66b-da371bc276ff",
   "metadata": {},
   "outputs": [
    {
     "name": "stdout",
     "output_type": "stream",
     "text": [
      "student name : pandu\n",
      "student age : 23\n"
     ]
    }
   ],
   "source": [
    "print(s2.student_info())"
   ]
  },
  {
   "cell_type": "code",
   "execution_count": 8,
   "id": "7e06f70b-e5da-4fbb-9d9f-597c22c45ebc",
   "metadata": {},
   "outputs": [],
   "source": [
    "class student :\n",
    "    def __init__(self, name, age):\n",
    "        self.name = name\n",
    "        self.age = age\n",
    "\n",
    "    def student_info(self):\n",
    "        return self.name, self.age"
   ]
  },
  {
   "cell_type": "code",
   "execution_count": 10,
   "id": "c6990bbb-1a3b-482c-9cfb-34b0e8ada046",
   "metadata": {},
   "outputs": [],
   "source": [
    "s1 = student(\"asif\", 23)\n",
    "s2 = student(\"pandu\", 34)"
   ]
  },
  {
   "cell_type": "code",
   "execution_count": 11,
   "id": "6c8a2bfd-6f01-4062-9ce9-599286245986",
   "metadata": {},
   "outputs": [
    {
     "data": {
      "text/plain": [
       "'asif'"
      ]
     },
     "execution_count": 11,
     "metadata": {},
     "output_type": "execute_result"
    }
   ],
   "source": [
    "s1.name"
   ]
  },
  {
   "cell_type": "code",
   "execution_count": 12,
   "id": "848dccf0-e6f8-4c16-ac1c-78951c5d270f",
   "metadata": {},
   "outputs": [
    {
     "data": {
      "text/plain": [
       "'pandu'"
      ]
     },
     "execution_count": 12,
     "metadata": {},
     "output_type": "execute_result"
    }
   ],
   "source": [
    "s2.name"
   ]
  },
  {
   "cell_type": "code",
   "execution_count": 13,
   "id": "f8a37dd3-087e-4bad-a089-bf1020a6f955",
   "metadata": {},
   "outputs": [
    {
     "data": {
      "text/plain": [
       "34"
      ]
     },
     "execution_count": 13,
     "metadata": {},
     "output_type": "execute_result"
    }
   ],
   "source": [
    "s2.age"
   ]
  },
  {
   "cell_type": "code",
   "execution_count": 15,
   "id": "d408aca2-060a-4c8d-8a95-25853033d667",
   "metadata": {},
   "outputs": [
    {
     "data": {
      "text/plain": [
       "('pandu', 34)"
      ]
     },
     "execution_count": 15,
     "metadata": {},
     "output_type": "execute_result"
    }
   ],
   "source": [
    "s2.student_info()"
   ]
  },
  {
   "cell_type": "code",
   "execution_count": 28,
   "id": "6d9f4f85-dfd6-4c3b-a918-1bd33b5ee44a",
   "metadata": {},
   "outputs": [],
   "source": [
    "class car :\n",
    "    def __init__(self,brand,model,mileage):\n",
    "        self.brand = brand\n",
    "        self.model = model\n",
    "        self.mileage = mileage\n",
    "\n",
    "    def fuel_used(self,distance):\n",
    "        fuel = distance/self.mileage\n",
    "        print(f\"{self.brand} {self.model} used {fuel:.2f} litre for {distance}km.\")"
   ]
  },
  {
   "cell_type": "code",
   "execution_count": 29,
   "id": "f9faf935-091b-476d-99ca-4566ea9ef73c",
   "metadata": {},
   "outputs": [],
   "source": [
    "car1 = car(\"toyota\",\"fortuner\",12)\n",
    "car2 = car(\"honda\",\"city\",15)"
   ]
  },
  {
   "cell_type": "code",
   "execution_count": 30,
   "id": "18ed942e-a7ec-4941-94f8-b2cb27b54f69",
   "metadata": {},
   "outputs": [
    {
     "name": "stdout",
     "output_type": "stream",
     "text": [
      "toyota fortuner used 20.00 litre for 240km.\n"
     ]
    }
   ],
   "source": [
    "car1.fuel_used(240)"
   ]
  },
  {
   "cell_type": "code",
   "execution_count": 31,
   "id": "aa545afb-2d79-4b42-b0e1-f92072aed547",
   "metadata": {},
   "outputs": [
    {
     "name": "stdout",
     "output_type": "stream",
     "text": [
      "honda city used 20.00 litre for 300km.\n"
     ]
    }
   ],
   "source": [
    "car2.fuel_used(300)"
   ]
  },
  {
   "cell_type": "code",
   "execution_count": 33,
   "id": "07a00bf2-942c-4963-9df9-29e07d89338d",
   "metadata": {},
   "outputs": [],
   "source": [
    "class car :\n",
    "    def __init__(self,brand,model,mileage):\n",
    "        self.brand = brand\n",
    "        self.model = model\n",
    "        self.mileage = mileage\n",
    "\n",
    "    def fuel_used(self,distance):\n",
    "        fuel = distance/self.mileage\n",
    "        print(f\"{self.brand} {self.model} used {fuel:.2f} litre for {distance}km.\")"
   ]
  },
  {
   "cell_type": "code",
   "execution_count": 34,
   "id": "4e6052fe-fca1-423f-a6d0-e83545c136be",
   "metadata": {},
   "outputs": [],
   "source": [
    "car1 = car(\"toyota\",\"fortuner\",12)\n",
    "car2 = car(\"honda\",\"city\",15)"
   ]
  },
  {
   "cell_type": "code",
   "execution_count": 35,
   "id": "ec88c730-512e-4928-8afe-bddb2ba28341",
   "metadata": {},
   "outputs": [
    {
     "name": "stdout",
     "output_type": "stream",
     "text": [
      "toyota fortuner used 20.00 litre for 240km.\n"
     ]
    }
   ],
   "source": [
    "car1.fuel_used(240)"
   ]
  },
  {
   "cell_type": "code",
   "execution_count": 36,
   "id": "27aaffbb-a230-45eb-80f4-b4f7246932eb",
   "metadata": {},
   "outputs": [
    {
     "name": "stdout",
     "output_type": "stream",
     "text": [
      "honda city used 24.00 litre for 360km.\n"
     ]
    }
   ],
   "source": [
    "car2.fuel_used(360)"
   ]
  },
  {
   "cell_type": "code",
   "execution_count": null,
   "id": "7f493770-7dd3-496c-baac-bc2bcd65d5ff",
   "metadata": {},
   "outputs": [],
   "source": [
    "class employee"
   ]
  }
 ],
 "metadata": {
  "kernelspec": {
   "display_name": "Python 3 (ipykernel)",
   "language": "python",
   "name": "python3"
  },
  "language_info": {
   "codemirror_mode": {
    "name": "ipython",
    "version": 3
   },
   "file_extension": ".py",
   "mimetype": "text/x-python",
   "name": "python",
   "nbconvert_exporter": "python",
   "pygments_lexer": "ipython3",
   "version": "3.13.1"
  }
 },
 "nbformat": 4,
 "nbformat_minor": 5
}
