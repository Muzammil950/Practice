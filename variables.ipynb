{
 "cells": [
  {
   "cell_type": "markdown",
   "id": "2f090316-7716-4cdc-b801-a8a18260433a",
   "metadata": {},
   "source": [
    "# python variables"
   ]
  },
  {
   "cell_type": "code",
   "execution_count": null,
   "id": "bbee0267-df2c-45c8-bb32-05f66b12cfde",
   "metadata": {},
   "outputs": [],
   "source": [
    "# A variable in Python is a name that is used to store a value in memory.\n",
    "#It works like a container or a label that holds some data (number, string, list, etc.), so you can use it later in your program."
   ]
  },
  {
   "cell_type": "code",
   "execution_count": 1,
   "id": "f567bf23-8235-4201-b29b-c0927cc280ec",
   "metadata": {},
   "outputs": [],
   "source": [
    "a = 1"
   ]
  },
  {
   "cell_type": "code",
   "execution_count": 2,
   "id": "caa949de-5e29-41a3-aecf-2e02e228aff2",
   "metadata": {},
   "outputs": [
    {
     "data": {
      "text/plain": [
       "1"
      ]
     },
     "execution_count": 2,
     "metadata": {},
     "output_type": "execute_result"
    }
   ],
   "source": [
    "a"
   ]
  },
  {
   "cell_type": "code",
   "execution_count": 3,
   "id": "b1cbc584-c4c4-4b9c-9d16-098b71ad67a0",
   "metadata": {},
   "outputs": [],
   "source": [
    "b = 76"
   ]
  },
  {
   "cell_type": "code",
   "execution_count": 4,
   "id": "55918a02-f2c0-4ca1-a085-d09ebde81863",
   "metadata": {},
   "outputs": [
    {
     "data": {
      "text/plain": [
       "76"
      ]
     },
     "execution_count": 4,
     "metadata": {},
     "output_type": "execute_result"
    }
   ],
   "source": [
    "b"
   ]
  },
  {
   "cell_type": "code",
   "execution_count": 5,
   "id": "24a89d9f-1dc3-4413-b1a4-3924db0a0b5d",
   "metadata": {},
   "outputs": [
    {
     "data": {
      "text/plain": [
       "int"
      ]
     },
     "execution_count": 5,
     "metadata": {},
     "output_type": "execute_result"
    }
   ],
   "source": [
    "type(b)"
   ]
  },
  {
   "cell_type": "code",
   "execution_count": 6,
   "id": "7d3574e4-07a6-496b-839a-493bbed4f815",
   "metadata": {},
   "outputs": [],
   "source": [
    "c = \"arif\""
   ]
  },
  {
   "cell_type": "code",
   "execution_count": 7,
   "id": "a9dcb406-ed81-4378-a58f-fb92c80bae14",
   "metadata": {},
   "outputs": [
    {
     "data": {
      "text/plain": [
       "str"
      ]
     },
     "execution_count": 7,
     "metadata": {},
     "output_type": "execute_result"
    }
   ],
   "source": [
    "type(c)"
   ]
  },
  {
   "cell_type": "code",
   "execution_count": 8,
   "id": "1ece1d1a-8440-411f-b043-3e12a1c89e89",
   "metadata": {},
   "outputs": [],
   "source": [
    "d = 34.3"
   ]
  },
  {
   "cell_type": "code",
   "execution_count": 9,
   "id": "7483f97e-5044-40d4-83d8-9d45bb41de99",
   "metadata": {},
   "outputs": [
    {
     "data": {
      "text/plain": [
       "float"
      ]
     },
     "execution_count": 9,
     "metadata": {},
     "output_type": "execute_result"
    }
   ],
   "source": [
    "type(d)"
   ]
  },
  {
   "cell_type": "code",
   "execution_count": 10,
   "id": "ba5e1507-83c4-40d3-9f2d-7369aae18e94",
   "metadata": {},
   "outputs": [],
   "source": [
    "arif = 45"
   ]
  },
  {
   "cell_type": "code",
   "execution_count": 11,
   "id": "f5a6b366-511e-4e37-b7eb-f63a254419e0",
   "metadata": {},
   "outputs": [
    {
     "data": {
      "text/plain": [
       "45"
      ]
     },
     "execution_count": 11,
     "metadata": {},
     "output_type": "execute_result"
    }
   ],
   "source": [
    "arif"
   ]
  },
  {
   "cell_type": "code",
   "execution_count": 13,
   "id": "114cbb93-6b22-41c5-b225-350cfd40845d",
   "metadata": {},
   "outputs": [],
   "source": [
    "asif = \"ansari\""
   ]
  },
  {
   "cell_type": "code",
   "execution_count": 15,
   "id": "af74c65e-5fc5-401b-a594-17f311e66270",
   "metadata": {},
   "outputs": [
    {
     "data": {
      "text/plain": [
       "'ansari'"
      ]
     },
     "execution_count": 15,
     "metadata": {},
     "output_type": "execute_result"
    }
   ],
   "source": [
    "asif"
   ]
  },
  {
   "cell_type": "code",
   "execution_count": 16,
   "id": "d209a336-3914-4ce0-8f56-322b88f7666e",
   "metadata": {},
   "outputs": [],
   "source": [
    "e = 2+8j"
   ]
  },
  {
   "cell_type": "code",
   "execution_count": 17,
   "id": "73ce9f90-1b18-4f6f-b620-3a2207f41455",
   "metadata": {},
   "outputs": [
    {
     "data": {
      "text/plain": [
       "complex"
      ]
     },
     "execution_count": 17,
     "metadata": {},
     "output_type": "execute_result"
    }
   ],
   "source": [
    "type(e)"
   ]
  },
  {
   "cell_type": "code",
   "execution_count": 18,
   "id": "3fe78f64-2d71-4530-8bb4-248e3fb770f3",
   "metadata": {},
   "outputs": [
    {
     "data": {
      "text/plain": [
       "8.0"
      ]
     },
     "execution_count": 18,
     "metadata": {},
     "output_type": "execute_result"
    }
   ],
   "source": [
    "e.imag"
   ]
  },
  {
   "cell_type": "code",
   "execution_count": 19,
   "id": "d79f3910-8b40-485e-bf6d-fcecc6e552b0",
   "metadata": {},
   "outputs": [
    {
     "data": {
      "text/plain": [
       "2.0"
      ]
     },
     "execution_count": 19,
     "metadata": {},
     "output_type": "execute_result"
    }
   ],
   "source": [
    "e.real"
   ]
  },
  {
   "cell_type": "code",
   "execution_count": 20,
   "id": "b311b5d5-686a-4d5b-895e-dae4c35a9fb1",
   "metadata": {},
   "outputs": [],
   "source": [
    "f = True"
   ]
  },
  {
   "cell_type": "code",
   "execution_count": 21,
   "id": "e63b844a-5b8a-4854-999a-e4f0f3b237a0",
   "metadata": {},
   "outputs": [
    {
     "data": {
      "text/plain": [
       "bool"
      ]
     },
     "execution_count": 21,
     "metadata": {},
     "output_type": "execute_result"
    }
   ],
   "source": [
    "type(f)"
   ]
  },
  {
   "cell_type": "code",
   "execution_count": 22,
   "id": "045d5199-058b-4b11-90f4-d577ce3338ca",
   "metadata": {},
   "outputs": [],
   "source": [
    "g = False"
   ]
  },
  {
   "cell_type": "code",
   "execution_count": 23,
   "id": "bfa645f4-2bd6-46ba-aebb-f62a88839cdc",
   "metadata": {},
   "outputs": [
    {
     "data": {
      "text/plain": [
       "bool"
      ]
     },
     "execution_count": 23,
     "metadata": {},
     "output_type": "execute_result"
    }
   ],
   "source": [
    "type(g)"
   ]
  },
  {
   "cell_type": "code",
   "execution_count": null,
   "id": "5dc666f3-c1e5-4929-a334-187040c7578f",
   "metadata": {},
   "outputs": [],
   "source": []
  }
 ],
 "metadata": {
  "kernelspec": {
   "display_name": "Python 3 (ipykernel)",
   "language": "python",
   "name": "python3"
  },
  "language_info": {
   "codemirror_mode": {
    "name": "ipython",
    "version": 3
   },
   "file_extension": ".py",
   "mimetype": "text/x-python",
   "name": "python",
   "nbconvert_exporter": "python",
   "pygments_lexer": "ipython3",
   "version": "3.13.1"
  }
 },
 "nbformat": 4,
 "nbformat_minor": 5
}
