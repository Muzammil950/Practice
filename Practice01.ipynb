{
 "cells": [
  {
   "cell_type": "code",
   "execution_count": 1,
   "id": "c86df12f-1682-4e19-b906-9dff24dfd58e",
   "metadata": {},
   "outputs": [],
   "source": [
    "d = {}"
   ]
  },
  {
   "cell_type": "code",
   "execution_count": 2,
   "id": "e93c1a62-290e-4211-8bf0-50aca48eaf6c",
   "metadata": {},
   "outputs": [
    {
     "data": {
      "text/plain": [
       "dict"
      ]
     },
     "execution_count": 2,
     "metadata": {},
     "output_type": "execute_result"
    }
   ],
   "source": [
    "\n",
    "type(d)"
   ]
  },
  {
   "cell_type": "code",
   "execution_count": 3,
   "id": "2bdd210e-f735-48e5-8775-f67211b14a2b",
   "metadata": {},
   "outputs": [],
   "source": [
    "d1 = {'key' : \"value\"}"
   ]
  },
  {
   "cell_type": "code",
   "execution_count": 4,
   "id": "23f6fe65-ca62-4aef-8266-b5af1ed93af4",
   "metadata": {},
   "outputs": [
    {
     "data": {
      "text/plain": [
       "{'key': 'value'}"
      ]
     },
     "execution_count": 4,
     "metadata": {},
     "output_type": "execute_result"
    }
   ],
   "source": [
    "d1"
   ]
  },
  {
   "cell_type": "code",
   "execution_count": 5,
   "id": "3d88e163-525d-45a2-b9c4-1ed08b985281",
   "metadata": {},
   "outputs": [],
   "source": [
    "d2 = {'name' : 'sudh', '@wer' : 'kumar', 'email' : 'aa@gmail.com', 'number' : 324}"
   ]
  },
  {
   "cell_type": "code",
   "execution_count": 6,
   "id": "f5d29625-ab98-466c-9001-00d010971147",
   "metadata": {},
   "outputs": [
    {
     "data": {
      "text/plain": [
       "{'name': 'sudh', '@wer': 'kumar', 'email': 'aa@gmail.com', 'number': 324}"
      ]
     },
     "execution_count": 6,
     "metadata": {},
     "output_type": "execute_result"
    }
   ],
   "source": [
    "d2"
   ]
  },
  {
   "cell_type": "code",
   "execution_count": 7,
   "id": "3587f77f-1a25-4537-a2f8-d8a6c1e2640e",
   "metadata": {},
   "outputs": [],
   "source": [
    "d3 = {234 : 'sudh', '@wer' : 'kumar', True : 24234}"
   ]
  },
  {
   "cell_type": "code",
   "execution_count": 8,
   "id": "efd7bf0b-d3d1-492f-abc3-7de689588ce9",
   "metadata": {},
   "outputs": [
    {
     "data": {
      "text/plain": [
       "'sudh'"
      ]
     },
     "execution_count": 8,
     "metadata": {},
     "output_type": "execute_result"
    }
   ],
   "source": [
    "d3[234]"
   ]
  },
  {
   "cell_type": "code",
   "execution_count": 9,
   "id": "d9ddb79c-c6d2-414f-9823-5a93a0a00984",
   "metadata": {},
   "outputs": [
    {
     "data": {
      "text/plain": [
       "24234"
      ]
     },
     "execution_count": 9,
     "metadata": {},
     "output_type": "execute_result"
    }
   ],
   "source": [
    "d3[True]"
   ]
  },
  {
   "cell_type": "code",
   "execution_count": 10,
   "id": "9f985c53-03f7-469f-875c-d96596fb1dcd",
   "metadata": {},
   "outputs": [
    {
     "data": {
      "text/plain": [
       "24234"
      ]
     },
     "execution_count": 10,
     "metadata": {},
     "output_type": "execute_result"
    }
   ],
   "source": [
    "d3[1]"
   ]
  },
  {
   "cell_type": "code",
   "execution_count": 14,
   "id": "6a16a432-ca03-4f49-bd55-2f9bcca398df",
   "metadata": {},
   "outputs": [],
   "source": [
    "d5 = {'company' : 'pwskills', 'course' : ['web dev', 'data science', 'java with dasa']}\n",
    "                                    "
   ]
  },
  {
   "cell_type": "code",
   "execution_count": 15,
   "id": "d16d0680-e4c8-4480-992d-6b83f202e405",
   "metadata": {},
   "outputs": [
    {
     "data": {
      "text/plain": [
       "{'company': 'pwskills',\n",
       " 'course': ['web dev', 'data science', 'java with dasa']}"
      ]
     },
     "execution_count": 15,
     "metadata": {},
     "output_type": "execute_result"
    }
   ],
   "source": [
    "d5"
   ]
  },
  {
   "cell_type": "code",
   "execution_count": 16,
   "id": "6daa9690-d4cb-4b2b-b5a6-1e69e497596c",
   "metadata": {},
   "outputs": [
    {
     "data": {
      "text/plain": [
       "['web dev', 'data science', 'java with dasa']"
      ]
     },
     "execution_count": 16,
     "metadata": {},
     "output_type": "execute_result"
    }
   ],
   "source": [
    "d5['course']"
   ]
  },
  {
   "cell_type": "code",
   "execution_count": 17,
   "id": "c74858b9-6fb8-47dc-8241-a6389b64dbb9",
   "metadata": {},
   "outputs": [
    {
     "data": {
      "text/plain": [
       "'java with dasa'"
      ]
     },
     "execution_count": 17,
     "metadata": {},
     "output_type": "execute_result"
    }
   ],
   "source": [
    "d5['course'][2]"
   ]
  },
  {
   "cell_type": "code",
   "execution_count": 11,
   "id": "ca68f705-2a61-4177-8788-2f15b5ac66c2",
   "metadata": {},
   "outputs": [],
   "source": [
    "d6 = {'number' : [2,34,3,34,34], 'assignment' : (1,2,3,4,5,6),'launch_date' : {12,14,28},'class_time' : {'web dev' : 8, 'data science master' : 8, 'java with dsa' : 7}}  "
   ]
  },
  {
   "cell_type": "code",
   "execution_count": 12,
   "id": "b675a751-3a03-4e4c-aa79-bae2fc849ccf",
   "metadata": {},
   "outputs": [
    {
     "data": {
      "text/plain": [
       "{'number': [2, 34, 3, 34, 34],\n",
       " 'assignment': (1, 2, 3, 4, 5, 6),\n",
       " 'launch_date': {12, 14, 28},\n",
       " 'class_time': {'web dev': 8, 'data science master': 8, 'java with dsa': 7}}"
      ]
     },
     "execution_count": 12,
     "metadata": {},
     "output_type": "execute_result"
    }
   ],
   "source": [
    "d6"
   ]
  },
  {
   "cell_type": "code",
   "execution_count": 13,
   "id": "06a91659-e7be-436c-9c8a-2ad12cbe6a12",
   "metadata": {},
   "outputs": [
    {
     "data": {
      "text/plain": [
       "{'web dev': 8, 'data science master': 8, 'java with dsa': 7}"
      ]
     },
     "execution_count": 13,
     "metadata": {},
     "output_type": "execute_result"
    }
   ],
   "source": [
    "d6['class_time']"
   ]
  },
  {
   "cell_type": "code",
   "execution_count": 14,
   "id": "74c7676d-645e-4628-9792-21f04526fb38",
   "metadata": {},
   "outputs": [
    {
     "data": {
      "text/plain": [
       "{'number': [2, 34, 3, 34, 34],\n",
       " 'assignment': (1, 2, 3, 4, 5, 6),\n",
       " 'launch_date': {12, 14, 28},\n",
       " 'class_time': {'web dev': 8, 'data science master': 8, 'java with dsa': 7}}"
      ]
     },
     "execution_count": 14,
     "metadata": {},
     "output_type": "execute_result"
    }
   ],
   "source": [
    "d6"
   ]
  },
  {
   "cell_type": "code",
   "execution_count": 15,
   "id": "2bde36f8-7ccd-4644-928d-07e18715f54c",
   "metadata": {},
   "outputs": [
    {
     "data": {
      "text/plain": [
       "7"
      ]
     },
     "execution_count": 15,
     "metadata": {},
     "output_type": "execute_result"
    }
   ],
   "source": [
    "d6['class_time']['java with dsa']"
   ]
  },
  {
   "cell_type": "code",
   "execution_count": 21,
   "id": "81d5e166-1769-43ee-a2bd-4f2c7f01b61e",
   "metadata": {},
   "outputs": [],
   "source": [
    "d6 ['mentor'] = [\"sudh\", \"krish\", \"anurag\", \"hayder\"]"
   ]
  },
  {
   "cell_type": "code",
   "execution_count": 22,
   "id": "190621ab-9c04-4278-b74a-3d8db136bde2",
   "metadata": {},
   "outputs": [
    {
     "data": {
      "text/plain": [
       "{'number': [2, 34, 3, 34, 34],\n",
       " 'assignment': (1, 2, 3, 4, 5, 6),\n",
       " 'launch_date': {12, 14, 28},\n",
       " 'class_time': {'web dev': 8, 'data science master': 8, 'java with dsa': 7},\n",
       " 'mentor': ['sudh', 'krish', 'anurag', 'hayder']}"
      ]
     },
     "execution_count": 22,
     "metadata": {},
     "output_type": "execute_result"
    }
   ],
   "source": [
    "d6"
   ]
  },
  {
   "cell_type": "code",
   "execution_count": 23,
   "id": "5cc5b4de-43a4-4e75-807a-01b2998ecc7e",
   "metadata": {},
   "outputs": [],
   "source": [
    "del d6['number']"
   ]
  },
  {
   "cell_type": "code",
   "execution_count": 24,
   "id": "a5180d49-d4bf-4e57-b6e1-837d80db4eb7",
   "metadata": {},
   "outputs": [
    {
     "data": {
      "text/plain": [
       "{'assignment': (1, 2, 3, 4, 5, 6),\n",
       " 'launch_date': {12, 14, 28},\n",
       " 'class_time': {'web dev': 8, 'data science master': 8, 'java with dsa': 7},\n",
       " 'mentor': ['sudh', 'krish', 'anurag', 'hayder']}"
      ]
     },
     "execution_count": 24,
     "metadata": {},
     "output_type": "execute_result"
    }
   ],
   "source": [
    "d6"
   ]
  },
  {
   "cell_type": "code",
   "execution_count": 25,
   "id": "745c2f7a-41bf-454d-8d6c-371c5a0e31fb",
   "metadata": {},
   "outputs": [
    {
     "data": {
      "text/plain": [
       "dict_keys(['assignment', 'launch_date', 'class_time', 'mentor'])"
      ]
     },
     "execution_count": 25,
     "metadata": {},
     "output_type": "execute_result"
    }
   ],
   "source": [
    "d6.keys()"
   ]
  },
  {
   "cell_type": "code",
   "execution_count": 26,
   "id": "7a2c0824-4a0e-4820-bc6f-d95cb824f919",
   "metadata": {},
   "outputs": [
    {
     "data": {
      "text/plain": [
       "['assignment', 'launch_date', 'class_time', 'mentor']"
      ]
     },
     "execution_count": 26,
     "metadata": {},
     "output_type": "execute_result"
    }
   ],
   "source": [
    "list(d6.keys())"
   ]
  },
  {
   "cell_type": "code",
   "execution_count": 27,
   "id": "81be46ed-eff8-4adb-a607-ca4fe73b0739",
   "metadata": {},
   "outputs": [
    {
     "data": {
      "text/plain": [
       "dict_values([(1, 2, 3, 4, 5, 6), {12, 28, 14}, {'web dev': 8, 'data science master': 8, 'java with dsa': 7}, ['sudh', 'krish', 'anurag', 'hayder']])"
      ]
     },
     "execution_count": 27,
     "metadata": {},
     "output_type": "execute_result"
    }
   ],
   "source": [
    "d6.values()"
   ]
  },
  {
   "cell_type": "code",
   "execution_count": 28,
   "id": "43a374f9-e35b-4662-8d0b-73596e2923af",
   "metadata": {},
   "outputs": [
    {
     "data": {
      "text/plain": [
       "[(1, 2, 3, 4, 5, 6),\n",
       " {12, 14, 28},\n",
       " {'web dev': 8, 'data science master': 8, 'java with dsa': 7},\n",
       " ['sudh', 'krish', 'anurag', 'hayder']]"
      ]
     },
     "execution_count": 28,
     "metadata": {},
     "output_type": "execute_result"
    }
   ],
   "source": [
    "list(d6.values())"
   ]
  },
  {
   "cell_type": "code",
   "execution_count": 29,
   "id": "08772270-2948-4921-ac9d-38e2b541b26f",
   "metadata": {},
   "outputs": [
    {
     "data": {
      "text/plain": [
       "dict_items([('assignment', (1, 2, 3, 4, 5, 6)), ('launch_date', {12, 28, 14}), ('class_time', {'web dev': 8, 'data science master': 8, 'java with dsa': 7}), ('mentor', ['sudh', 'krish', 'anurag', 'hayder'])])"
      ]
     },
     "execution_count": 29,
     "metadata": {},
     "output_type": "execute_result"
    }
   ],
   "source": [
    "d6.items()"
   ]
  },
  {
   "cell_type": "code",
   "execution_count": 30,
   "id": "8dcf1acb-2be6-47a6-9efe-344e33c36a91",
   "metadata": {},
   "outputs": [
    {
     "data": {
      "text/plain": [
       "[('assignment', (1, 2, 3, 4, 5, 6)),\n",
       " ('launch_date', {12, 14, 28}),\n",
       " ('class_time', {'web dev': 8, 'data science master': 8, 'java with dsa': 7}),\n",
       " ('mentor', ['sudh', 'krish', 'anurag', 'hayder'])]"
      ]
     },
     "execution_count": 30,
     "metadata": {},
     "output_type": "execute_result"
    }
   ],
   "source": [
    "list(d6.items())"
   ]
  },
  {
   "cell_type": "code",
   "execution_count": 31,
   "id": "3533eaa0-7c00-4053-82da-b0429ffb3c1f",
   "metadata": {},
   "outputs": [
    {
     "data": {
      "text/plain": [
       "(1, 2, 3, 4, 5, 6)"
      ]
     },
     "execution_count": 31,
     "metadata": {},
     "output_type": "execute_result"
    }
   ],
   "source": [
    "d6.pop('assignment')"
   ]
  },
  {
   "cell_type": "code",
   "execution_count": 32,
   "id": "aa0ad5e2-4b1f-4786-a36f-4901d7ef1cfb",
   "metadata": {},
   "outputs": [
    {
     "data": {
      "text/plain": [
       "{'launch_date': {12, 14, 28},\n",
       " 'class_time': {'web dev': 8, 'data science master': 8, 'java with dsa': 7},\n",
       " 'mentor': ['sudh', 'krish', 'anurag', 'hayder']}"
      ]
     },
     "execution_count": 32,
     "metadata": {},
     "output_type": "execute_result"
    }
   ],
   "source": [
    "d6"
   ]
  },
  {
   "cell_type": "code",
   "execution_count": 3,
   "id": "88535770-b0f8-4375-bd58-e2cfce8c1f6b",
   "metadata": {},
   "outputs": [
    {
     "name": "stdin",
     "output_type": "stream",
     "text": [
      "enter marks :  34\n"
     ]
    },
    {
     "name": "stdout",
     "output_type": "stream",
     "text": [
      "D batch\n"
     ]
    }
   ],
   "source": [
    "marks = int(input(\"enter marks : \"))\n",
    "if marks >= 80 :\n",
    "            print(\" A batch\")\n",
    "elif marks >= 60 and marks < 80 :\n",
    "            print(\"B batch\")\n",
    "elif marks >= 40 and marks < 60 :\n",
    "            print(\"C batch\")\n",
    "else:\n",
    "            print(\"D batch\")\n",
    "                  \n",
    "                  \n",
    "\n",
    "    \n",
    "            \n"
   ]
  },
  {
   "cell_type": "code",
   "execution_count": 7,
   "id": "ba252000-9d4c-4867-88f5-49f2fba6e02d",
   "metadata": {},
   "outputs": [
    {
     "name": "stdin",
     "output_type": "stream",
     "text": [
      "enter price 1800\n"
     ]
    },
    {
     "name": "stdout",
     "output_type": "stream",
     "text": [
      "i will not purchase\n"
     ]
    }
   ],
   "source": [
    "price = int(input(\"enter price\"))\n",
    "if price > 1000:\n",
    "            print(\"i will not purchase\")\n",
    "else: \n",
    "            print(\"i will purchase\")"
   ]
  },
  {
   "cell_type": "code",
   "execution_count": 10,
   "id": "cb1fa062-981a-4a0b-940e-e9d31c5955b9",
   "metadata": {},
   "outputs": [
    {
     "name": "stdin",
     "output_type": "stream",
     "text": [
      "enter price 500\n"
     ]
    }
   ],
   "source": [
    "price = int(input(\"enter price\"))\n",
    "if price > 1000:\n",
    "    print(\"i wil not purchase\")\n",
    "    if price > 5000:\n",
    "        print(\"this is too much\")\n",
    "    "
   ]
  },
  {
   "cell_type": "code",
   "execution_count": 14,
   "id": "cbcde9f9-0402-4b78-a40a-90097a734fb0",
   "metadata": {},
   "outputs": [
    {
     "name": "stdin",
     "output_type": "stream",
     "text": [
      "enter price 2000\n"
     ]
    },
    {
     "name": "stdout",
     "output_type": "stream",
     "text": [
      "i will not purchase\n"
     ]
    }
   ],
   "source": [
    "price = int(input(\"enter price\"))\n",
    "if price > 1000:\n",
    "            print(\"i will not purchase\")\n",
    "            if price > 5000 :\n",
    "                  print(\"this is too much\")\n",
    "            elif price < 2000:\n",
    "                  print(\"its ok\")\n",
    "            "
   ]
  },
  {
   "cell_type": "code",
   "execution_count": 15,
   "id": "62f9ec45-7ae0-4a0d-b585-92f089520be1",
   "metadata": {},
   "outputs": [],
   "source": [
    "l = [1,2,3,3,4,5,6,7,8]"
   ]
  },
  {
   "cell_type": "code",
   "execution_count": 16,
   "id": "4388029b-d411-495d-9bf8-5d8cd33ad420",
   "metadata": {},
   "outputs": [
    {
     "data": {
      "text/plain": [
       "2"
      ]
     },
     "execution_count": 16,
     "metadata": {},
     "output_type": "execute_result"
    }
   ],
   "source": [
    "l[0]+1"
   ]
  },
  {
   "cell_type": "code",
   "execution_count": 17,
   "id": "394b1b1b-dc50-453a-9048-e2ef99e5dea5",
   "metadata": {},
   "outputs": [],
   "source": [
    "l1 = []\n",
    "l1.append(l[0]+1)"
   ]
  },
  {
   "cell_type": "code",
   "execution_count": 18,
   "id": "0ff8d546-b889-4a79-aa26-7c682f887787",
   "metadata": {},
   "outputs": [
    {
     "data": {
      "text/plain": [
       "[2]"
      ]
     },
     "execution_count": 18,
     "metadata": {},
     "output_type": "execute_result"
    }
   ],
   "source": [
    "l1"
   ]
  },
  {
   "cell_type": "code",
   "execution_count": 19,
   "id": "1ccf716c-996c-4e47-a5eb-cd45613753bc",
   "metadata": {},
   "outputs": [
    {
     "data": {
      "text/plain": [
       "[1, 2, 3, 3, 4, 5, 6, 7, 8]"
      ]
     },
     "execution_count": 19,
     "metadata": {},
     "output_type": "execute_result"
    }
   ],
   "source": [
    "l "
   ]
  },
  {
   "cell_type": "code",
   "execution_count": 20,
   "id": "7df2b445-a5e9-4f3c-bba2-afd48e545dd6",
   "metadata": {},
   "outputs": [
    {
     "name": "stdout",
     "output_type": "stream",
     "text": [
      "1\n",
      "2\n",
      "3\n",
      "3\n",
      "4\n",
      "5\n",
      "6\n",
      "7\n",
      "8\n"
     ]
    }
   ],
   "source": [
    "for i in l:\n",
    "    print(i)"
   ]
  },
  {
   "cell_type": "code",
   "execution_count": 21,
   "id": "217934f0-5bba-4346-9ffb-a1731d93855a",
   "metadata": {},
   "outputs": [
    {
     "name": "stdout",
     "output_type": "stream",
     "text": [
      "2\n",
      "3\n",
      "4\n",
      "4\n",
      "5\n",
      "6\n",
      "7\n",
      "8\n",
      "9\n"
     ]
    }
   ],
   "source": [
    "for i in l:\n",
    "    print(i+1)"
   ]
  },
  {
   "cell_type": "code",
   "execution_count": 22,
   "id": "4b2c9b5c-4dc3-4ee4-8286-8288bbe8aa8f",
   "metadata": {},
   "outputs": [
    {
     "name": "stdout",
     "output_type": "stream",
     "text": [
      "2\n",
      "3\n",
      "4\n",
      "4\n",
      "5\n",
      "6\n",
      "7\n",
      "8\n",
      "9\n"
     ]
    }
   ],
   "source": [
    "l1 = []\n",
    "for i in l:\n",
    "    print(i+1)\n",
    "    l1.append(i+1)"
   ]
  },
  {
   "cell_type": "code",
   "execution_count": 23,
   "id": "ee1c8bc1-9398-42b3-b1ed-51d0e0aab831",
   "metadata": {},
   "outputs": [
    {
     "data": {
      "text/plain": [
       "[2, 3, 4, 4, 5, 6, 7, 8, 9]"
      ]
     },
     "execution_count": 23,
     "metadata": {},
     "output_type": "execute_result"
    }
   ],
   "source": [
    "l1"
   ]
  },
  {
   "cell_type": "code",
   "execution_count": 24,
   "id": "73ffec16-bac8-458f-b41a-7313687953e2",
   "metadata": {},
   "outputs": [],
   "source": [
    "l = ['sudh','kumar','pwskills','course']"
   ]
  },
  {
   "cell_type": "code",
   "execution_count": 25,
   "id": "6e5b6129-2607-4fe7-aaee-fd56f7e8cb66",
   "metadata": {},
   "outputs": [
    {
     "name": "stdout",
     "output_type": "stream",
     "text": [
      "sudh\n",
      "kumar\n",
      "pwskills\n",
      "course\n"
     ]
    }
   ],
   "source": [
    "l1 = []\n",
    "for i in l:\n",
    "    print(i)\n",
    "    l1.append(i.upper())"
   ]
  },
  {
   "cell_type": "code",
   "execution_count": 26,
   "id": "39e87c11-167c-4f7e-a066-b3ef9594e81a",
   "metadata": {},
   "outputs": [
    {
     "data": {
      "text/plain": [
       "['SUDH', 'KUMAR', 'PWSKILLS', 'COURSE']"
      ]
     },
     "execution_count": 26,
     "metadata": {},
     "output_type": "execute_result"
    }
   ],
   "source": [
    "l1"
   ]
  },
  {
   "cell_type": "code",
   "execution_count": 27,
   "id": "50b820fd-dce4-4c54-bf86-c00eb45ebb05",
   "metadata": {},
   "outputs": [],
   "source": [
    "l = [1,2,3,4,5,'sudh','kumar',324,34.456,'abc']"
   ]
  },
  {
   "cell_type": "code",
   "execution_count": 28,
   "id": "be7178b4-50a0-430e-a9b4-88ba689e2840",
   "metadata": {},
   "outputs": [],
   "source": [
    "l1_int = []\n",
    "l2_str = []\n",
    "for i in l:\n",
    "    if type(i) == int or type(i) == float:\n",
    "        l1_int.append(i)\n",
    "    else:\n",
    "        l2_str.append(i)"
   ]
  },
  {
   "cell_type": "code",
   "execution_count": 29,
   "id": "f408c5ee-c7dc-4f5c-87f4-b3617e4d3698",
   "metadata": {},
   "outputs": [
    {
     "data": {
      "text/plain": [
       "[1, 2, 3, 4, 5, 324, 34.456]"
      ]
     },
     "execution_count": 29,
     "metadata": {},
     "output_type": "execute_result"
    }
   ],
   "source": [
    "l1_int"
   ]
  },
  {
   "cell_type": "code",
   "execution_count": 30,
   "id": "99f8f6a4-6575-4735-9433-30e81a8c1fb3",
   "metadata": {},
   "outputs": [
    {
     "data": {
      "text/plain": [
       "['sudh', 'kumar', 'abc']"
      ]
     },
     "execution_count": 30,
     "metadata": {},
     "output_type": "execute_result"
    }
   ],
   "source": [
    "l2_str"
   ]
  },
  {
   "cell_type": "code",
   "execution_count": null,
   "id": "9b487d63-d929-40c7-a950-668044183bf9",
   "metadata": {},
   "outputs": [],
   "source": []
  }
 ],
 "metadata": {
  "kernelspec": {
   "display_name": "Python 3 (ipykernel)",
   "language": "python",
   "name": "python3"
  },
  "language_info": {
   "codemirror_mode": {
    "name": "ipython",
    "version": 3
   },
   "file_extension": ".py",
   "mimetype": "text/x-python",
   "name": "python",
   "nbconvert_exporter": "python",
   "pygments_lexer": "ipython3",
   "version": "3.13.1"
  }
 },
 "nbformat": 4,
 "nbformat_minor": 5
}
