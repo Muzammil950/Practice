{
 "cells": [
  {
   "cell_type": "markdown",
   "id": "acf29f7a-4ad6-40b6-884a-cd7617a00ea6",
   "metadata": {},
   "source": [
    "# Dict"
   ]
  },
  {
   "cell_type": "code",
   "execution_count": 1,
   "id": "567ffb11-ae53-4bd8-9180-f1a1e5b8882e",
   "metadata": {},
   "outputs": [],
   "source": [
    "d = {}"
   ]
  },
  {
   "cell_type": "code",
   "execution_count": 3,
   "id": "a49b1015-8a8d-4221-9326-0ba02abca63e",
   "metadata": {},
   "outputs": [
    {
     "data": {
      "text/plain": [
       "dict"
      ]
     },
     "execution_count": 3,
     "metadata": {},
     "output_type": "execute_result"
    }
   ],
   "source": [
    "type(d)"
   ]
  },
  {
   "cell_type": "code",
   "execution_count": 4,
   "id": "7c1b31e4-644d-4a43-b575-045a29923e2c",
   "metadata": {},
   "outputs": [],
   "source": [
    "d1 = {'key':'value'}"
   ]
  },
  {
   "cell_type": "code",
   "execution_count": 5,
   "id": "0b500156-67e7-4ad7-a38f-725867e4e2ec",
   "metadata": {},
   "outputs": [
    {
     "data": {
      "text/plain": [
       "{'key': 'value'}"
      ]
     },
     "execution_count": 5,
     "metadata": {},
     "output_type": "execute_result"
    }
   ],
   "source": [
    "d1"
   ]
  },
  {
   "cell_type": "code",
   "execution_count": 6,
   "id": "67a87c51-7c91-46f4-9ef5-b96893710ede",
   "metadata": {},
   "outputs": [],
   "source": [
    "d2 = {'name':'sudhan','email':'@ssgmail','number':2345}"
   ]
  },
  {
   "cell_type": "code",
   "execution_count": 7,
   "id": "00d2e716-5827-4d1a-86f1-29c6775e2114",
   "metadata": {},
   "outputs": [
    {
     "data": {
      "text/plain": [
       "{'name': 'sudhan', 'email': '@ssgmail', 'number': 2345}"
      ]
     },
     "execution_count": 7,
     "metadata": {},
     "output_type": "execute_result"
    }
   ],
   "source": [
    "d2"
   ]
  },
  {
   "cell_type": "code",
   "execution_count": 9,
   "id": "6598f1d8-f1ab-4403-802a-b41b4eb43e7f",
   "metadata": {},
   "outputs": [],
   "source": [
    "d3 = {234:'sudh','_wer':'kumar',True:2434}"
   ]
  },
  {
   "cell_type": "code",
   "execution_count": 10,
   "id": "22e556db-13c3-4d5e-9240-785282bb853b",
   "metadata": {},
   "outputs": [
    {
     "data": {
      "text/plain": [
       "{234: 'sudh', '_wer': 'kumar', True: 2434}"
      ]
     },
     "execution_count": 10,
     "metadata": {},
     "output_type": "execute_result"
    }
   ],
   "source": [
    "d3"
   ]
  },
  {
   "cell_type": "code",
   "execution_count": 12,
   "id": "8f8e6029-99af-4c33-b0a7-3acf365c96b1",
   "metadata": {},
   "outputs": [
    {
     "data": {
      "text/plain": [
       "'sudh'"
      ]
     },
     "execution_count": 12,
     "metadata": {},
     "output_type": "execute_result"
    }
   ],
   "source": [
    "d3[234]"
   ]
  },
  {
   "cell_type": "code",
   "execution_count": 14,
   "id": "6a0a5f5a-0f28-4d43-a708-05939fb3fa76",
   "metadata": {},
   "outputs": [
    {
     "data": {
      "text/plain": [
       "'kumar'"
      ]
     },
     "execution_count": 14,
     "metadata": {},
     "output_type": "execute_result"
    }
   ],
   "source": [
    "d3['_wer']"
   ]
  },
  {
   "cell_type": "code",
   "execution_count": 15,
   "id": "df188114-13a3-47ec-afa5-cfb0291f8364",
   "metadata": {},
   "outputs": [
    {
     "data": {
      "text/plain": [
       "2434"
      ]
     },
     "execution_count": 15,
     "metadata": {},
     "output_type": "execute_result"
    }
   ],
   "source": [
    "d3[True]"
   ]
  },
  {
   "cell_type": "code",
   "execution_count": 16,
   "id": "26225527-6fbc-49dc-9938-006dd49fea90",
   "metadata": {},
   "outputs": [
    {
     "data": {
      "text/plain": [
       "'@ssgmail'"
      ]
     },
     "execution_count": 16,
     "metadata": {},
     "output_type": "execute_result"
    }
   ],
   "source": [
    "d2['email']"
   ]
  },
  {
   "cell_type": "code",
   "execution_count": 17,
   "id": "0117446a-ed24-4876-aa38-aaa4118028bf",
   "metadata": {},
   "outputs": [
    {
     "data": {
      "text/plain": [
       "2345"
      ]
     },
     "execution_count": 17,
     "metadata": {},
     "output_type": "execute_result"
    }
   ],
   "source": [
    "d2['number']"
   ]
  },
  {
   "cell_type": "code",
   "execution_count": 19,
   "id": "9dcc9ab0-a3af-4896-897e-746dd96d836f",
   "metadata": {},
   "outputs": [],
   "source": [
    "d5 = {'company name':'physics wallah','course':['web dev','data science','java with dsa']}"
   ]
  },
  {
   "cell_type": "code",
   "execution_count": 20,
   "id": "0e149e2c-bf68-425a-a2b2-cf3cefa10085",
   "metadata": {},
   "outputs": [
    {
     "data": {
      "text/plain": [
       "{'company name': 'physics wallah',\n",
       " 'course': ['web dev', 'data science', 'java with dsa']}"
      ]
     },
     "execution_count": 20,
     "metadata": {},
     "output_type": "execute_result"
    }
   ],
   "source": [
    "d5"
   ]
  },
  {
   "cell_type": "code",
   "execution_count": 21,
   "id": "f53df531-6c2b-425c-97bf-f81249665744",
   "metadata": {},
   "outputs": [
    {
     "data": {
      "text/plain": [
       "'java with dsa'"
      ]
     },
     "execution_count": 21,
     "metadata": {},
     "output_type": "execute_result"
    }
   ],
   "source": [
    "d5['course'][2]"
   ]
  },
  {
   "cell_type": "code",
   "execution_count": 23,
   "id": "fecca5e4-067d-441b-8076-c820f6d2598c",
   "metadata": {},
   "outputs": [
    {
     "data": {
      "text/plain": [
       "'data science'"
      ]
     },
     "execution_count": 23,
     "metadata": {},
     "output_type": "execute_result"
    }
   ],
   "source": [
    "d5['course'][1]"
   ]
  },
  {
   "cell_type": "code",
   "execution_count": 24,
   "id": "92f3b382-13ac-40c9-80f4-3ed36cdbef5c",
   "metadata": {},
   "outputs": [
    {
     "data": {
      "text/plain": [
       "'web dev'"
      ]
     },
     "execution_count": 24,
     "metadata": {},
     "output_type": "execute_result"
    }
   ],
   "source": [
    "d5['course'][0]"
   ]
  },
  {
   "cell_type": "code",
   "execution_count": 25,
   "id": "28c0dccd-cf7a-4ef4-8b0c-fd9e14c4f6c6",
   "metadata": {},
   "outputs": [
    {
     "data": {
      "text/plain": [
       "'physics wallah'"
      ]
     },
     "execution_count": 25,
     "metadata": {},
     "output_type": "execute_result"
    }
   ],
   "source": [
    "d5['company name']"
   ]
  },
  {
   "cell_type": "code",
   "execution_count": 30,
   "id": "c8d5c739-35d6-40eb-ae07-e8915944aa48",
   "metadata": {},
   "outputs": [],
   "source": [
    "d6 = {'number':[2,4,5,6,7,8],'assignment':(1,2,3,4,5,6),'launch_date':{28,23,5,6,8},'class_timing':{'web dev':8,'data science':7,'java with dsa':8}}\n",
    "                                                                                                    \n",
    "    "
   ]
  },
  {
   "cell_type": "code",
   "execution_count": 31,
   "id": "6cddf4ef-116b-466f-9f4c-e5776824a460",
   "metadata": {},
   "outputs": [
    {
     "data": {
      "text/plain": [
       "{'number': [2, 4, 5, 6, 7, 8],\n",
       " 'assignment': (1, 2, 3, 4, 5, 6),\n",
       " 'launch_date': {5, 6, 8, 23, 28},\n",
       " 'class_timing': {'web dev': 8, 'data science': 7, 'java with dsa': 8}}"
      ]
     },
     "execution_count": 31,
     "metadata": {},
     "output_type": "execute_result"
    }
   ],
   "source": [
    "d6"
   ]
  },
  {
   "cell_type": "code",
   "execution_count": 32,
   "id": "89f6c790-a85e-422c-bb8e-c6371485a684",
   "metadata": {},
   "outputs": [
    {
     "data": {
      "text/plain": [
       "7"
      ]
     },
     "execution_count": 32,
     "metadata": {},
     "output_type": "execute_result"
    }
   ],
   "source": [
    "d6['class_timing']['data science']"
   ]
  },
  {
   "cell_type": "code",
   "execution_count": 33,
   "id": "c0b50c42-e02a-4784-ac07-2a9f3ecdb146",
   "metadata": {},
   "outputs": [
    {
     "data": {
      "text/plain": [
       "{5, 6, 8, 23, 28}"
      ]
     },
     "execution_count": 33,
     "metadata": {},
     "output_type": "execute_result"
    }
   ],
   "source": [
    "d6['launch_date']"
   ]
  },
  {
   "cell_type": "code",
   "execution_count": 34,
   "id": "3e95b806-4db5-43e5-a7f3-d7ca60be1745",
   "metadata": {},
   "outputs": [
    {
     "data": {
      "text/plain": [
       "8"
      ]
     },
     "execution_count": 34,
     "metadata": {},
     "output_type": "execute_result"
    }
   ],
   "source": [
    "d6['class_timing']['web dev']"
   ]
  },
  {
   "cell_type": "code",
   "execution_count": 35,
   "id": "af935e2c-2ac4-46cc-868a-cd140d0c7222",
   "metadata": {},
   "outputs": [],
   "source": [
    "d6['mentor'] = ['sudh','kumar','rakesh','gopi']"
   ]
  },
  {
   "cell_type": "code",
   "execution_count": 36,
   "id": "3ab475e8-4d62-44b7-9251-316adf212f37",
   "metadata": {},
   "outputs": [
    {
     "data": {
      "text/plain": [
       "{'number': [2, 4, 5, 6, 7, 8],\n",
       " 'assignment': (1, 2, 3, 4, 5, 6),\n",
       " 'launch_date': {5, 6, 8, 23, 28},\n",
       " 'class_timing': {'web dev': 8, 'data science': 7, 'java with dsa': 8},\n",
       " 'mentor': ['sudh', 'kumar', 'rakesh', 'gopi']}"
      ]
     },
     "execution_count": 36,
     "metadata": {},
     "output_type": "execute_result"
    }
   ],
   "source": [
    "d6"
   ]
  },
  {
   "cell_type": "code",
   "execution_count": 37,
   "id": "cfe8affa-0bfe-401a-bd1f-13e70deb41cd",
   "metadata": {},
   "outputs": [
    {
     "data": {
      "text/plain": [
       "dict_keys(['number', 'assignment', 'launch_date', 'class_timing', 'mentor'])"
      ]
     },
     "execution_count": 37,
     "metadata": {},
     "output_type": "execute_result"
    }
   ],
   "source": [
    "d6.keys()"
   ]
  },
  {
   "cell_type": "code",
   "execution_count": 38,
   "id": "897c16c7-b5c6-4694-bf12-426997009cb5",
   "metadata": {},
   "outputs": [
    {
     "data": {
      "text/plain": [
       "dict_values([[2, 4, 5, 6, 7, 8], (1, 2, 3, 4, 5, 6), {5, 6, 23, 8, 28}, {'web dev': 8, 'data science': 7, 'java with dsa': 8}, ['sudh', 'kumar', 'rakesh', 'gopi']])"
      ]
     },
     "execution_count": 38,
     "metadata": {},
     "output_type": "execute_result"
    }
   ],
   "source": [
    "d6.values()"
   ]
  },
  {
   "cell_type": "code",
   "execution_count": 39,
   "id": "925d4ff1-feb0-4c9f-a500-a8db81de1950",
   "metadata": {},
   "outputs": [
    {
     "data": {
      "text/plain": [
       "['number', 'assignment', 'launch_date', 'class_timing', 'mentor']"
      ]
     },
     "execution_count": 39,
     "metadata": {},
     "output_type": "execute_result"
    }
   ],
   "source": [
    "list(d6.keys())"
   ]
  },
  {
   "cell_type": "code",
   "execution_count": 40,
   "id": "0ae1c3c2-75ee-4eae-9943-e3097e0e8806",
   "metadata": {},
   "outputs": [
    {
     "data": {
      "text/plain": [
       "[[2, 4, 5, 6, 7, 8],\n",
       " (1, 2, 3, 4, 5, 6),\n",
       " {5, 6, 8, 23, 28},\n",
       " {'web dev': 8, 'data science': 7, 'java with dsa': 8},\n",
       " ['sudh', 'kumar', 'rakesh', 'gopi']]"
      ]
     },
     "execution_count": 40,
     "metadata": {},
     "output_type": "execute_result"
    }
   ],
   "source": [
    "list(d6.values())"
   ]
  },
  {
   "cell_type": "code",
   "execution_count": 41,
   "id": "eb631704-edc7-404d-947b-51e58c738e45",
   "metadata": {},
   "outputs": [
    {
     "data": {
      "text/plain": [
       "(1, 2, 3, 4, 5, 6)"
      ]
     },
     "execution_count": 41,
     "metadata": {},
     "output_type": "execute_result"
    }
   ],
   "source": [
    "d6.pop('assignment')"
   ]
  },
  {
   "cell_type": "code",
   "execution_count": 42,
   "id": "857f43aa-6b5f-4be6-afaa-f9489a09ae28",
   "metadata": {},
   "outputs": [
    {
     "data": {
      "text/plain": [
       "{'number': [2, 4, 5, 6, 7, 8],\n",
       " 'launch_date': {5, 6, 8, 23, 28},\n",
       " 'class_timing': {'web dev': 8, 'data science': 7, 'java with dsa': 8},\n",
       " 'mentor': ['sudh', 'kumar', 'rakesh', 'gopi']}"
      ]
     },
     "execution_count": 42,
     "metadata": {},
     "output_type": "execute_result"
    }
   ],
   "source": [
    "d6"
   ]
  },
  {
   "cell_type": "markdown",
   "id": "7ac0ae2b-b296-47fd-b700-17108e5748fd",
   "metadata": {},
   "source": [
    "# if-else"
   ]
  },
  {
   "cell_type": "code",
   "execution_count": 45,
   "id": "8c79f7a2-729a-4e61-86ac-faf9a015e1f5",
   "metadata": {},
   "outputs": [
    {
     "name": "stdin",
     "output_type": "stream",
     "text": [
      "enter marks : 55\n"
     ]
    },
    {
     "name": "stdout",
     "output_type": "stream",
     "text": [
      "B\n"
     ]
    }
   ],
   "source": [
    "marks = int(input(\"enter marks :\"))\n",
    "if marks > 80:\n",
    "    print(\"A\")\n",
    "elif marks > 60 or marks < 80:\n",
    "    print(\"B\")\n",
    "elif marks > 40 or marks < 60:\n",
    "    print(\"c\")\n",
    "else:\n",
    "    print(\"D\")\n",
    "    \n",
    "\n",
    "    "
   ]
  },
  {
   "cell_type": "code",
   "execution_count": 51,
   "id": "394291e7-1f1d-4f61-a6f9-ea4ad999f69d",
   "metadata": {},
   "outputs": [
    {
     "name": "stdin",
     "output_type": "stream",
     "text": [
      "price is :  900\n"
     ]
    },
    {
     "name": "stdout",
     "output_type": "stream",
     "text": [
      "i will purchase\n"
     ]
    }
   ],
   "source": [
    "price = int(input(\"price is : \"))\n",
    "if price > 1000:\n",
    "    print(\"i will not purchase\")\n",
    "    if price > 5000:\n",
    "        print(\"its too much\")\n",
    "    elif price < 2000:\n",
    "        print(\"its ok\")\n",
    "elif price < 1000:\n",
    "    print(\"i will purchase\")\n",
    "else:\n",
    "    print(\"not interested\")"
   ]
  },
  {
   "cell_type": "markdown",
   "id": "f39f0ee6-da14-42e4-b749-0db693972cca",
   "metadata": {},
   "source": []
  }
 ],
 "metadata": {
  "kernelspec": {
   "display_name": "Python 3 (ipykernel)",
   "language": "python",
   "name": "python3"
  },
  "language_info": {
   "codemirror_mode": {
    "name": "ipython",
    "version": 3
   },
   "file_extension": ".py",
   "mimetype": "text/x-python",
   "name": "python",
   "nbconvert_exporter": "python",
   "pygments_lexer": "ipython3",
   "version": "3.13.1"
  }
 },
 "nbformat": 4,
 "nbformat_minor": 5
}
