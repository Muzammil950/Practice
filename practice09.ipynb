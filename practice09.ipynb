{
 "cells": [
  {
   "cell_type": "markdown",
   "id": "a0697444-a591-49af-8f34-83f6970243c8",
   "metadata": {},
   "source": [
    "# Working with files"
   ]
  },
  {
   "cell_type": "code",
   "execution_count": 41,
   "id": "e9bdc617-00bd-4404-abe2-a8d635210df2",
   "metadata": {},
   "outputs": [],
   "source": [
    "f = open(\"test.txt\",'w')"
   ]
  },
  {
   "cell_type": "code",
   "execution_count": 42,
   "id": "00d5fd11-1db5-4a77-9765-6239a604c982",
   "metadata": {},
   "outputs": [
    {
     "data": {
      "text/plain": [
       "21"
      ]
     },
     "execution_count": 42,
     "metadata": {},
     "output_type": "execute_result"
    }
   ],
   "source": [
    "f.write(\"this is my first file\")"
   ]
  },
  {
   "cell_type": "code",
   "execution_count": 43,
   "id": "709f13bc-5ebd-4a5d-800e-70fe0939cd46",
   "metadata": {},
   "outputs": [],
   "source": [
    "f.close()"
   ]
  },
  {
   "cell_type": "code",
   "execution_count": 44,
   "id": "c75ba166-82ed-41b5-b185-950122b15557",
   "metadata": {},
   "outputs": [],
   "source": [
    "f = open(\"test.txt\",'w')"
   ]
  },
  {
   "cell_type": "code",
   "execution_count": 45,
   "id": "10da2953-402f-49b2-a475-955ad307a095",
   "metadata": {},
   "outputs": [
    {
     "data": {
      "text/plain": [
       "26"
      ]
     },
     "execution_count": 45,
     "metadata": {},
     "output_type": "execute_result"
    }
   ],
   "source": [
    "f.write(\"this is another first file\")"
   ]
  },
  {
   "cell_type": "code",
   "execution_count": 46,
   "id": "caa7ad79-e1ca-4b0b-813d-54fcb5daf066",
   "metadata": {},
   "outputs": [],
   "source": [
    "f.close()"
   ]
  },
  {
   "cell_type": "code",
   "execution_count": 47,
   "id": "7a044720-d9a5-4d3d-a9d9-7eba2afdd160",
   "metadata": {},
   "outputs": [],
   "source": [
    "f = open(\"test.txt\",'a')"
   ]
  },
  {
   "cell_type": "code",
   "execution_count": 48,
   "id": "8b100b05-a8d4-4ba4-9e18-fb0ef7fdc19a",
   "metadata": {},
   "outputs": [
    {
     "data": {
      "text/plain": [
       "180"
      ]
     },
     "execution_count": 48,
     "metadata": {},
     "output_type": "execute_result"
    }
   ],
   "source": [
    "f.write(\"Artificial intelligence (AI) is technology that enables computers and machines to simulate human learning, comprehension, problem solving, decision making, creativity and autonomy.\")"
   ]
  },
  {
   "cell_type": "code",
   "execution_count": 49,
   "id": "299558b5-ecf0-40bd-99c0-6fe5eb0ddf2d",
   "metadata": {},
   "outputs": [],
   "source": [
    "f.close()"
   ]
  },
  {
   "cell_type": "code",
   "execution_count": 50,
   "id": "8fa58c88-d9e7-42f2-8d18-40d689b86a82",
   "metadata": {},
   "outputs": [],
   "source": [
    "f = open(\"test.txt\",\"r\")"
   ]
  },
  {
   "cell_type": "code",
   "execution_count": 51,
   "id": "b99cc574-d1d5-47ee-b3eb-1e747feaa24a",
   "metadata": {},
   "outputs": [
    {
     "data": {
      "text/plain": [
       "'this is another first fileArtificial intelligence (AI) is technology that enables computers and machines to simulate human learning, comprehension, problem solving, decision making, creativity and autonomy.'"
      ]
     },
     "execution_count": 51,
     "metadata": {},
     "output_type": "execute_result"
    }
   ],
   "source": [
    "f.read()"
   ]
  },
  {
   "cell_type": "code",
   "execution_count": 52,
   "id": "75f85837-f378-4cfa-9fe9-8b0a395f3d12",
   "metadata": {},
   "outputs": [
    {
     "data": {
      "text/plain": [
       "''"
      ]
     },
     "execution_count": 52,
     "metadata": {},
     "output_type": "execute_result"
    }
   ],
   "source": [
    "f.readline()"
   ]
  },
  {
   "cell_type": "code",
   "execution_count": 53,
   "id": "fd2e5b65-d3ca-4826-bab1-846983c2f2c5",
   "metadata": {},
   "outputs": [
    {
     "data": {
      "text/plain": [
       "0"
      ]
     },
     "execution_count": 53,
     "metadata": {},
     "output_type": "execute_result"
    }
   ],
   "source": [
    "f.seek(0)"
   ]
  },
  {
   "cell_type": "code",
   "execution_count": 54,
   "id": "ff18579a-a4cf-416b-806f-783e7181fa04",
   "metadata": {},
   "outputs": [
    {
     "data": {
      "text/plain": [
       "'this is another first fileArtificial intelligence (AI) is technology that enables computers and machines to simulate human learning, comprehension, problem solving, decision making, creativity and autonomy.'"
      ]
     },
     "execution_count": 54,
     "metadata": {},
     "output_type": "execute_result"
    }
   ],
   "source": [
    "f.readline()"
   ]
  },
  {
   "cell_type": "code",
   "execution_count": 55,
   "id": "48313d77-3ddc-4426-bbc0-ad58581b9a71",
   "metadata": {},
   "outputs": [
    {
     "data": {
      "text/plain": [
       "10"
      ]
     },
     "execution_count": 55,
     "metadata": {},
     "output_type": "execute_result"
    }
   ],
   "source": [
    "f.seek(10)"
   ]
  },
  {
   "cell_type": "code",
   "execution_count": 56,
   "id": "eccca70e-c26f-4c98-8cbb-30b98a7bcc38",
   "metadata": {},
   "outputs": [
    {
     "data": {
      "text/plain": [
       "'other first fileArtificial intelligence (AI) is technology that enables computers and machines to simulate human learning, comprehension, problem solving, decision making, creativity and autonomy.'"
      ]
     },
     "execution_count": 56,
     "metadata": {},
     "output_type": "execute_result"
    }
   ],
   "source": [
    "f.read()"
   ]
  },
  {
   "cell_type": "code",
   "execution_count": 57,
   "id": "3536b8ec-c592-4b59-9675-73ee000c3e71",
   "metadata": {},
   "outputs": [],
   "source": [
    "data1 = open(\"test.txt\",\"r\")"
   ]
  },
  {
   "cell_type": "code",
   "execution_count": 58,
   "id": "c5a442c3-8946-4b57-9d4a-751c2843e5d0",
   "metadata": {},
   "outputs": [
    {
     "name": "stdout",
     "output_type": "stream",
     "text": [
      "this is another first fileArtificial intelligence (AI) is technology that enables computers and machines to simulate human learning, comprehension, problem solving, decision making, creativity and autonomy.\n"
     ]
    }
   ],
   "source": [
    "for i in data1 :\n",
    "    print(i)"
   ]
  },
  {
   "cell_type": "code",
   "execution_count": 59,
   "id": "ce72b523-0d3d-44b2-b8fd-4e74f44fb9da",
   "metadata": {},
   "outputs": [],
   "source": [
    "import os"
   ]
  },
  {
   "cell_type": "code",
   "execution_count": 60,
   "id": "5e27131c-ffe9-4be8-bc58-36ad85e761bd",
   "metadata": {},
   "outputs": [
    {
     "data": {
      "text/plain": [
       "206"
      ]
     },
     "execution_count": 60,
     "metadata": {},
     "output_type": "execute_result"
    }
   ],
   "source": [
    "os.path.getsize(\"test.txt\")"
   ]
  },
  {
   "cell_type": "code",
   "execution_count": 61,
   "id": "7fd5e4d1-5c2a-4a3a-9df9-f22af7dc17f4",
   "metadata": {},
   "outputs": [
    {
     "data": {
      "text/plain": [
       "206"
      ]
     },
     "execution_count": 61,
     "metadata": {},
     "output_type": "execute_result"
    }
   ],
   "source": [
    "os.path.getsize(\"test.txt\")"
   ]
  },
  {
   "cell_type": "code",
   "execution_count": 62,
   "id": "bf57cc36-578d-449b-b163-b81bbe7174e3",
   "metadata": {},
   "outputs": [
    {
     "data": {
      "text/plain": [
       "206"
      ]
     },
     "execution_count": 62,
     "metadata": {},
     "output_type": "execute_result"
    }
   ],
   "source": [
    "os.path.getsize(\"test.txt\")"
   ]
  },
  {
   "cell_type": "code",
   "execution_count": 65,
   "id": "07be3ce3-e412-4956-80ee-cd773af7cff1",
   "metadata": {},
   "outputs": [],
   "source": [
    "f = open(\"test1.txt\",\"w\")"
   ]
  },
  {
   "cell_type": "code",
   "execution_count": 66,
   "id": "5ed9e64f-7161-44e5-a6d2-9971bfe558dc",
   "metadata": {},
   "outputs": [
    {
     "data": {
      "text/plain": [
       "352"
      ]
     },
     "execution_count": 66,
     "metadata": {},
     "output_type": "execute_result"
    }
   ],
   "source": [
    "f.write(\"ML stands for Machine Learning, a field of artificial intelligence where computers learn from data to make predictions or decisions without being explicitly programmed. ML algorithms are trained on large datasets to identify patterns and correlations, allowing machines to improve their accuracy and performance over time with more experience and data.\") "
   ]
  },
  {
   "cell_type": "code",
   "execution_count": 71,
   "id": "ea6fa4fa-6182-4855-8097-d2b8ee4bd511",
   "metadata": {},
   "outputs": [],
   "source": [
    "f.close()"
   ]
  },
  {
   "cell_type": "code",
   "execution_count": 76,
   "id": "6cb639c1-abdb-4520-979c-97eee817e95f",
   "metadata": {},
   "outputs": [],
   "source": [
    "f = open(\"test1.txt\",\"r\")"
   ]
  },
  {
   "cell_type": "code",
   "execution_count": 77,
   "id": "786c6a48-b9bc-4913-95da-8d894d42e123",
   "metadata": {},
   "outputs": [
    {
     "data": {
      "text/plain": [
       "'ML stands for Machine Learning, a field of artificial intelligence where computers learn from data to make predictions or decisions without being explicitly programmed. ML algorithms are trained on large datasets to identify patterns and correlations, allowing machines to improve their accuracy and performance over time with more experience and data.'"
      ]
     },
     "execution_count": 77,
     "metadata": {},
     "output_type": "execute_result"
    }
   ],
   "source": [
    "f.read()"
   ]
  },
  {
   "cell_type": "code",
   "execution_count": 78,
   "id": "0f59e265-ebab-4608-8ded-2acc7371c0e6",
   "metadata": {},
   "outputs": [
    {
     "data": {
      "text/plain": [
       "<function TextIOWrapper.close()>"
      ]
     },
     "execution_count": 78,
     "metadata": {},
     "output_type": "execute_result"
    }
   ],
   "source": [
    "f.close"
   ]
  },
  {
   "cell_type": "code",
   "execution_count": 81,
   "id": "92fe5038-384e-47ce-82c4-16dc35f4c039",
   "metadata": {},
   "outputs": [],
   "source": [
    "import shutil"
   ]
  },
  {
   "cell_type": "code",
   "execution_count": 82,
   "id": "f7095e1a-b945-4f28-a975-4b11a2b34548",
   "metadata": {},
   "outputs": [
    {
     "data": {
      "text/plain": [
       "'copy_new.txt'"
      ]
     },
     "execution_count": 82,
     "metadata": {},
     "output_type": "execute_result"
    }
   ],
   "source": [
    "shutil.copy('test1.txt','copy_new.txt')"
   ]
  },
  {
   "cell_type": "code",
   "execution_count": 83,
   "id": "27ea17b4-330d-40ed-931e-262a34ad2d55",
   "metadata": {},
   "outputs": [
    {
     "name": "stdout",
     "output_type": "stream",
     "text": [
      "ML stands for Machine Learning, a field of artificial intelligence where computers learn from data to make predictions or decisions without being explicitly programmed. ML algorithms are trained on large datasets to identify patterns and correlations, allowing machines to improve their accuracy and performance over time with more experience and data.\n"
     ]
    }
   ],
   "source": [
    "with open(\"copy_new.txt\",\"r\") as f :\n",
    "    print(f.read())"
   ]
  },
  {
   "cell_type": "code",
   "execution_count": 84,
   "id": "02c465b2-e500-48d4-bd82-5bd7fa63ff24",
   "metadata": {},
   "outputs": [
    {
     "name": "stdout",
     "output_type": "stream",
     "text": [
      "ML stands for Machine Learning, a field of artificial intelligence where computers learn from data to make predictions or decisions without being explicitly programmed. ML algorithms are trained on large datasets to identify patterns and correlations, allowing machines to improve their accuracy and performance over time with more experience and data.\n"
     ]
    }
   ],
   "source": [
    "with open(\"copy_new.txt\",\"r\") as f :\n",
    "    print(f.read())"
   ]
  },
  {
   "cell_type": "code",
   "execution_count": null,
   "id": "49f3f066-0b9d-43ae-a076-12958f6a7ec7",
   "metadata": {},
   "outputs": [],
   "source": []
  }
 ],
 "metadata": {
  "kernelspec": {
   "display_name": "Python 3 (ipykernel)",
   "language": "python",
   "name": "python3"
  },
  "language_info": {
   "codemirror_mode": {
    "name": "ipython",
    "version": 3
   },
   "file_extension": ".py",
   "mimetype": "text/x-python",
   "name": "python",
   "nbconvert_exporter": "python",
   "pygments_lexer": "ipython3",
   "version": "3.13.1"
  }
 },
 "nbformat": 4,
 "nbformat_minor": 5
}
