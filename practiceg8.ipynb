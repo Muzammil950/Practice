{
 "cells": [
  {
   "cell_type": "code",
   "execution_count": 1,
   "id": "fa3764d0-a694-45ce-9fe9-864538cb486f",
   "metadata": {},
   "outputs": [],
   "source": [
    " l = [1,2,3,4,5,6,7,8]"
   ]
  },
  {
   "cell_type": "code",
   "execution_count": 2,
   "id": "8bca2ed0-41d6-485c-87f4-c3a59dd37aa4",
   "metadata": {},
   "outputs": [
    {
     "data": {
      "text/plain": [
       "2"
      ]
     },
     "execution_count": 2,
     "metadata": {},
     "output_type": "execute_result"
    }
   ],
   "source": [
    "l[0]+1"
   ]
  },
  {
   "cell_type": "code",
   "execution_count": 3,
   "id": "615a0d47-3bcb-420e-b554-acafda382c0a",
   "metadata": {},
   "outputs": [],
   "source": [
    "l1 = []\n",
    "l1.append(l[0]+1)"
   ]
  },
  {
   "cell_type": "code",
   "execution_count": 4,
   "id": "170efe33-002b-460d-9ad0-b729653be3ae",
   "metadata": {},
   "outputs": [
    {
     "data": {
      "text/plain": [
       "[2]"
      ]
     },
     "execution_count": 4,
     "metadata": {},
     "output_type": "execute_result"
    }
   ],
   "source": [
    "l1"
   ]
  },
  {
   "cell_type": "code",
   "execution_count": 7,
   "id": "abf8c6e8-57f0-4424-b4ce-119d13b65357",
   "metadata": {},
   "outputs": [],
   "source": [
    "l1.append(l[1]+1)"
   ]
  },
  {
   "cell_type": "code",
   "execution_count": 8,
   "id": "d10d7d27-6f4a-4dd5-92bf-4d0552a8c877",
   "metadata": {},
   "outputs": [
    {
     "data": {
      "text/plain": [
       "[2, 4, 3]"
      ]
     },
     "execution_count": 8,
     "metadata": {},
     "output_type": "execute_result"
    }
   ],
   "source": [
    "l1"
   ]
  },
  {
   "cell_type": "code",
   "execution_count": 9,
   "id": "f12e6af1-d352-44cf-8b46-ecc07c6d236d",
   "metadata": {},
   "outputs": [],
   "source": [
    "l1.append(l[2]+1)"
   ]
  },
  {
   "cell_type": "code",
   "execution_count": 10,
   "id": "f69bb128-dd80-42e3-8749-15c53df3a15b",
   "metadata": {},
   "outputs": [
    {
     "data": {
      "text/plain": [
       "[2, 4, 3, 4]"
      ]
     },
     "execution_count": 10,
     "metadata": {},
     "output_type": "execute_result"
    }
   ],
   "source": [
    "l1"
   ]
  },
  {
   "cell_type": "code",
   "execution_count": 11,
   "id": "7214e35c-c6f0-4850-95b6-debca4b3003c",
   "metadata": {},
   "outputs": [],
   "source": [
    "l1.append(l[3]+1)"
   ]
  },
  {
   "cell_type": "code",
   "execution_count": 12,
   "id": "a1530cdf-1562-4a85-869c-51aa0259f4ba",
   "metadata": {},
   "outputs": [
    {
     "data": {
      "text/plain": [
       "[2, 4, 3, 4, 5]"
      ]
     },
     "execution_count": 12,
     "metadata": {},
     "output_type": "execute_result"
    }
   ],
   "source": [
    "l1"
   ]
  },
  {
   "cell_type": "code",
   "execution_count": 13,
   "id": "7ba6d30f-ba18-4aba-957a-d3218b2a79ce",
   "metadata": {},
   "outputs": [],
   "source": [
    "l1.append(l[4]+1)"
   ]
  },
  {
   "cell_type": "code",
   "execution_count": 14,
   "id": "c7e09b84-3b37-4852-a98b-a08f7bff67c3",
   "metadata": {},
   "outputs": [
    {
     "data": {
      "text/plain": [
       "[2, 4, 3, 4, 5, 6]"
      ]
     },
     "execution_count": 14,
     "metadata": {},
     "output_type": "execute_result"
    }
   ],
   "source": [
    "l1"
   ]
  },
  {
   "cell_type": "code",
   "execution_count": 15,
   "id": "aba9223a-2762-478e-a49b-1aeb96903383",
   "metadata": {},
   "outputs": [],
   "source": [
    "l1.append(l[5]+1)"
   ]
  },
  {
   "cell_type": "code",
   "execution_count": 17,
   "id": "384710c6-2503-482d-9447-ee4a7496e774",
   "metadata": {},
   "outputs": [
    {
     "data": {
      "text/plain": [
       "[2, 4, 3, 4, 5, 6, 7]"
      ]
     },
     "execution_count": 17,
     "metadata": {},
     "output_type": "execute_result"
    }
   ],
   "source": [
    "l1"
   ]
  },
  {
   "cell_type": "code",
   "execution_count": 18,
   "id": "4b38d54e-da8a-44bf-85b8-0b91f5d0bb22",
   "metadata": {},
   "outputs": [],
   "source": [
    "l1.append(l[6]+1)"
   ]
  },
  {
   "cell_type": "code",
   "execution_count": 19,
   "id": "90a33eed-b6bb-4b9b-9cea-d2d9000b75be",
   "metadata": {},
   "outputs": [
    {
     "data": {
      "text/plain": [
       "[2, 4, 3, 4, 5, 6, 7, 8]"
      ]
     },
     "execution_count": 19,
     "metadata": {},
     "output_type": "execute_result"
    }
   ],
   "source": [
    "l1"
   ]
  },
  {
   "cell_type": "code",
   "execution_count": 20,
   "id": "08fc8809-0bf5-416b-a541-7aae837d9f4d",
   "metadata": {},
   "outputs": [],
   "source": [
    "l1.append(l[7]+1)"
   ]
  },
  {
   "cell_type": "code",
   "execution_count": 21,
   "id": "e06184b1-91e2-44fa-bec0-e9ae7c252a08",
   "metadata": {},
   "outputs": [
    {
     "data": {
      "text/plain": [
       "[2, 4, 3, 4, 5, 6, 7, 8, 9]"
      ]
     },
     "execution_count": 21,
     "metadata": {},
     "output_type": "execute_result"
    }
   ],
   "source": [
    "l1"
   ]
  },
  {
   "cell_type": "code",
   "execution_count": 22,
   "id": "373f6be8-4b67-4c57-a351-f1aad18a5033",
   "metadata": {},
   "outputs": [
    {
     "data": {
      "text/plain": [
       "[1, 2, 3, 4, 5, 6, 7, 8]"
      ]
     },
     "execution_count": 22,
     "metadata": {},
     "output_type": "execute_result"
    }
   ],
   "source": [
    "l"
   ]
  },
  {
   "cell_type": "code",
   "execution_count": 23,
   "id": "1b102758-0028-427f-9f6d-1b19d3787c71",
   "metadata": {},
   "outputs": [
    {
     "name": "stdout",
     "output_type": "stream",
     "text": [
      "1\n",
      "2\n",
      "3\n",
      "4\n",
      "5\n",
      "6\n",
      "7\n",
      "8\n"
     ]
    }
   ],
   "source": [
    "for i in l:\n",
    "    print(i)"
   ]
  },
  {
   "cell_type": "code",
   "execution_count": 24,
   "id": "5ba02c46-98b3-4d6e-9298-69f5676f4d07",
   "metadata": {},
   "outputs": [
    {
     "name": "stdout",
     "output_type": "stream",
     "text": [
      "2\n",
      "3\n",
      "4\n",
      "5\n",
      "6\n",
      "7\n",
      "8\n",
      "9\n"
     ]
    }
   ],
   "source": [
    "for i in l:\n",
    "    print(i+1)"
   ]
  },
  {
   "cell_type": "code",
   "execution_count": 25,
   "id": "87a117fd-d1b7-4e4e-adf2-4edaf425421d",
   "metadata": {},
   "outputs": [
    {
     "name": "stdout",
     "output_type": "stream",
     "text": [
      "1\n",
      "2\n",
      "3\n",
      "4\n",
      "5\n",
      "6\n",
      "7\n",
      "8\n"
     ]
    }
   ],
   "source": [
    "for i in l:\n",
    "    print(i*1)"
   ]
  },
  {
   "cell_type": "code",
   "execution_count": 26,
   "id": "dc941619-08ac-459a-96f1-8d23f46029f2",
   "metadata": {},
   "outputs": [
    {
     "name": "stdout",
     "output_type": "stream",
     "text": [
      "0\n",
      "1\n",
      "2\n",
      "3\n",
      "4\n",
      "5\n",
      "6\n",
      "7\n"
     ]
    }
   ],
   "source": [
    "for i in l:\n",
    "    print(i-1)"
   ]
  },
  {
   "cell_type": "code",
   "execution_count": 27,
   "id": "9bea285a-6b0a-4a99-acf8-9ce7b0be3409",
   "metadata": {},
   "outputs": [
    {
     "name": "stdout",
     "output_type": "stream",
     "text": [
      "1\n",
      "4\n",
      "9\n",
      "16\n",
      "25\n",
      "36\n",
      "49\n",
      "64\n"
     ]
    }
   ],
   "source": [
    "for i in l:\n",
    "    print(i**2)"
   ]
  },
  {
   "cell_type": "code",
   "execution_count": 30,
   "id": "c28a64ac-16e6-4909-9a73-4e07a3d357d1",
   "metadata": {},
   "outputs": [
    {
     "name": "stdout",
     "output_type": "stream",
     "text": [
      "1\n",
      "2\n",
      "3\n",
      "4\n",
      "5\n",
      "6\n",
      "7\n",
      "8\n"
     ]
    }
   ],
   "source": [
    "for i in l:\n",
    "    print(i)"
   ]
  },
  {
   "cell_type": "code",
   "execution_count": 31,
   "id": "4f50ac38-91c7-486b-abac-38bfda7dedff",
   "metadata": {},
   "outputs": [
    {
     "name": "stdout",
     "output_type": "stream",
     "text": [
      "1\n",
      "2\n",
      "3\n",
      "4\n",
      "5\n",
      "6\n",
      "7\n",
      "8\n"
     ]
    }
   ],
   "source": [
    "for i in l:\n",
    "     print(i)"
   ]
  },
  {
   "cell_type": "code",
   "execution_count": 32,
   "id": "bf9b0bfe-0ce1-45dc-90ad-70583b6bb074",
   "metadata": {},
   "outputs": [],
   "source": [
    "l = ['sid','sud','sad','sed','sod']"
   ]
  },
  {
   "cell_type": "code",
   "execution_count": 36,
   "id": "245bc955-e2c1-4d54-8446-6738e65ec127",
   "metadata": {},
   "outputs": [
    {
     "name": "stdout",
     "output_type": "stream",
     "text": [
      "sid\n",
      "sud\n",
      "sad\n",
      "sed\n",
      "sod\n"
     ]
    }
   ],
   "source": [
    "l2 = []\n",
    "for i in l:\n",
    "    print(i)\n",
    "    l2.append(i.upper())\n",
    " "
   ]
  },
  {
   "cell_type": "code",
   "execution_count": 37,
   "id": "250da35c-55da-4bcd-85d4-8e70eb0a148c",
   "metadata": {},
   "outputs": [
    {
     "data": {
      "text/plain": [
       "['SID', 'SUD', 'SAD', 'SED', 'SOD']"
      ]
     },
     "execution_count": 37,
     "metadata": {},
     "output_type": "execute_result"
    }
   ],
   "source": [
    "l2"
   ]
  },
  {
   "cell_type": "code",
   "execution_count": 39,
   "id": "8174477d-1dd8-4d0d-83e6-2e18a9f90fed",
   "metadata": {},
   "outputs": [],
   "source": [
    "l3 = []\n",
    "for i in l:\n",
    "    l3.append(i.title())"
   ]
  },
  {
   "cell_type": "code",
   "execution_count": 40,
   "id": "cd79b02d-e24b-4773-aa97-b45197784d95",
   "metadata": {},
   "outputs": [
    {
     "data": {
      "text/plain": [
       "['Sid', 'Sud', 'Sad', 'Sed', 'Sod']"
      ]
     },
     "execution_count": 40,
     "metadata": {},
     "output_type": "execute_result"
    }
   ],
   "source": [
    "l3"
   ]
  },
  {
   "cell_type": "code",
   "execution_count": 41,
   "id": "449cdd6a-335d-4ba8-889d-6a823475083c",
   "metadata": {},
   "outputs": [
    {
     "data": {
      "text/plain": [
       "5"
      ]
     },
     "execution_count": 41,
     "metadata": {},
     "output_type": "execute_result"
    }
   ],
   "source": [
    "len(l3)"
   ]
  },
  {
   "cell_type": "code",
   "execution_count": 44,
   "id": "bf0ce8f5-1fe8-413a-a66d-7e58a19f4fc8",
   "metadata": {},
   "outputs": [
    {
     "data": {
      "text/plain": [
       "0"
      ]
     },
     "execution_count": 44,
     "metadata": {},
     "output_type": "execute_result"
    }
   ],
   "source": [
    "l3.count('S')"
   ]
  },
  {
   "cell_type": "code",
   "execution_count": 52,
   "id": "ab4a7a5c-79fa-463a-b898-12377591b175",
   "metadata": {},
   "outputs": [],
   "source": [
    "l = [1,2,3,4,5,'sudh','kumar',324,34.456,'abc']"
   ]
  },
  {
   "cell_type": "code",
   "execution_count": 54,
   "id": "371ebddb-f7a4-4ce3-bced-fd4e8a0a4919",
   "metadata": {},
   "outputs": [],
   "source": [
    "l1_num = []\n",
    "l2_str = []\n",
    "for i in l:\n",
    "    if type(i) == int or type(i) == float:\n",
    "        l1_num.append(i)\n",
    "    else:    \n",
    "        l2_str.append(i)"
   ]
  },
  {
   "cell_type": "code",
   "execution_count": 55,
   "id": "96ee0d50-6541-4530-8fb5-94558e33c89f",
   "metadata": {},
   "outputs": [
    {
     "data": {
      "text/plain": [
       "[1, 2, 3, 4, 5, 324, 34.456]"
      ]
     },
     "execution_count": 55,
     "metadata": {},
     "output_type": "execute_result"
    }
   ],
   "source": [
    "l1_num"
   ]
  },
  {
   "cell_type": "code",
   "execution_count": 56,
   "id": "faa2eea0-ef8e-4ab9-b639-6a48e37a3a01",
   "metadata": {},
   "outputs": [
    {
     "data": {
      "text/plain": [
       "['sudh', 'kumar', 'abc']"
      ]
     },
     "execution_count": 56,
     "metadata": {},
     "output_type": "execute_result"
    }
   ],
   "source": [
    "l2_str"
   ]
  },
  {
   "cell_type": "code",
   "execution_count": null,
   "id": "d81b0477-3b6f-4495-af9b-427fc8fc8643",
   "metadata": {},
   "outputs": [],
   "source": []
  }
 ],
 "metadata": {
  "kernelspec": {
   "display_name": "Python 3 (ipykernel)",
   "language": "python",
   "name": "python3"
  },
  "language_info": {
   "codemirror_mode": {
    "name": "ipython",
    "version": 3
   },
   "file_extension": ".py",
   "mimetype": "text/x-python",
   "name": "python",
   "nbconvert_exporter": "python",
   "pygments_lexer": "ipython3",
   "version": "3.13.1"
  }
 },
 "nbformat": 4,
 "nbformat_minor": 5
}
