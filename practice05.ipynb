{
 "cells": [
  {
   "cell_type": "markdown",
   "id": "ac9aeaa0-1728-456f-b581-dcfcba6bf111",
   "metadata": {},
   "source": [
    "# OOPS"
   ]
  },
  {
   "cell_type": "markdown",
   "id": "acaefa2d-c087-4b5e-9788-198e073c35fe",
   "metadata": {},
   "source": [
    "# Class - classification of real world entity\n",
    "# Object - real world entity"
   ]
  },
  {
   "cell_type": "code",
   "execution_count": 2,
   "id": "7b832075-1354-4115-8d67-40cf214591ef",
   "metadata": {},
   "outputs": [],
   "source": [
    "a = 1 # object = variable = instance"
   ]
  },
  {
   "cell_type": "code",
   "execution_count": 10,
   "id": "12b16638-e468-45ca-9511-ccbe0453e300",
   "metadata": {},
   "outputs": [],
   "source": [
    "b = 34"
   ]
  },
  {
   "cell_type": "code",
   "execution_count": 12,
   "id": "2b2dc6cf-fe5c-4e46-a932-dc9246cff266",
   "metadata": {},
   "outputs": [
    {
     "name": "stdout",
     "output_type": "stream",
     "text": [
      "<class 'int'>\n"
     ]
    }
   ],
   "source": [
    "print(type(b))"
   ]
  },
  {
   "cell_type": "code",
   "execution_count": 13,
   "id": "bad0bb2f-3200-4a4b-bc3c-39a2fa7aff8e",
   "metadata": {},
   "outputs": [],
   "source": [
    "c = 'abc'"
   ]
  },
  {
   "cell_type": "code",
   "execution_count": 14,
   "id": "62078a0c-0658-458f-a6ce-962255c6193d",
   "metadata": {},
   "outputs": [
    {
     "name": "stdout",
     "output_type": "stream",
     "text": [
      "<class 'str'>\n"
     ]
    }
   ],
   "source": [
    "print(type(c))"
   ]
  },
  {
   "cell_type": "code",
   "execution_count": 4,
   "id": "f9555182-2695-4e8b-a9d9-62f3bb507e2e",
   "metadata": {},
   "outputs": [],
   "source": [
    "class test:\n",
    "    pass"
   ]
  },
  {
   "cell_type": "code",
   "execution_count": 5,
   "id": "4bd1172b-fe0f-435c-bf01-58e83c916649",
   "metadata": {},
   "outputs": [],
   "source": [
    "a = test()"
   ]
  },
  {
   "cell_type": "code",
   "execution_count": 6,
   "id": "950d29ca-a130-4835-9aa7-f89d6467a9aa",
   "metadata": {},
   "outputs": [
    {
     "data": {
      "text/plain": [
       "__main__.test"
      ]
     },
     "execution_count": 6,
     "metadata": {},
     "output_type": "execute_result"
    }
   ],
   "source": [
    "type(a)"
   ]
  },
  {
   "cell_type": "code",
   "execution_count": 7,
   "id": "20ddc784-2aaf-4d66-b103-70905821bf5e",
   "metadata": {},
   "outputs": [
    {
     "name": "stdout",
     "output_type": "stream",
     "text": [
      "<class '__main__.test'>\n"
     ]
    }
   ],
   "source": [
    "print(type(a))"
   ]
  },
  {
   "cell_type": "code",
   "execution_count": 15,
   "id": "ee4dc593-c043-4b2d-9d68-d481f820d848",
   "metadata": {},
   "outputs": [],
   "source": [
    "class pwskills:      # class\n",
    "\n",
    "    def welcome_msg(self):                  # method\n",
    "        print(\"welcome to pwskills\")"
   ]
  },
  {
   "cell_type": "code",
   "execution_count": 16,
   "id": "d58e27f1-89c2-4018-afd0-9969504a12e0",
   "metadata": {},
   "outputs": [],
   "source": [
    "rohan = pwskills()     # object"
   ]
  },
  {
   "cell_type": "code",
   "execution_count": 17,
   "id": "2371af48-9ab2-4e03-b3a1-dd696e453236",
   "metadata": {},
   "outputs": [
    {
     "name": "stdout",
     "output_type": "stream",
     "text": [
      "welcome to pwskills\n"
     ]
    }
   ],
   "source": [
    "rohan.welcome_msg()    # funtion call "
   ]
  },
  {
   "cell_type": "code",
   "execution_count": 20,
   "id": "43aa4fdd-4b3a-4e8f-a4ad-b8cfaf8365e1",
   "metadata": {},
   "outputs": [],
   "source": [
    "gaurav = pwskills()"
   ]
  },
  {
   "cell_type": "code",
   "execution_count": 21,
   "id": "876113d2-cf11-42d8-975a-6432ee0ba6c0",
   "metadata": {},
   "outputs": [
    {
     "name": "stdout",
     "output_type": "stream",
     "text": [
      "welcome to pwskills\n"
     ]
    }
   ],
   "source": [
    "gaurav.welcome_msg()"
   ]
  },
  {
   "cell_type": "code",
   "execution_count": 22,
   "id": "4c3e10d1-252f-4a47-b516-4f3effe7c41a",
   "metadata": {},
   "outputs": [],
   "source": [
    "sudh = pwskills()"
   ]
  },
  {
   "cell_type": "code",
   "execution_count": 23,
   "id": "f526c78d-af77-4862-aa94-0fb339f24c72",
   "metadata": {},
   "outputs": [
    {
     "name": "stdout",
     "output_type": "stream",
     "text": [
      "welcome to pwskills\n"
     ]
    }
   ],
   "source": [
    "sudh.welcome_msg()"
   ]
  },
  {
   "cell_type": "code",
   "execution_count": 24,
   "id": "18898aba-9356-4598-8514-2c8d4640e550",
   "metadata": {},
   "outputs": [],
   "source": [
    "class pwskills1:\n",
    "\n",
    "    def __init__(self, phone_number, email_id, student_id):\n",
    "        self.phone_number = phone_number\n",
    "        self.email_id = email_id\n",
    "        self.student_id = student_id\n",
    "    \n",
    "    def return_student_details(self):\n",
    "        return self.phone_number, self.email_id, self.student_id"
   ]
  },
  {
   "cell_type": "code",
   "execution_count": 26,
   "id": "8123a296-7e6b-4a8a-8b95-9bd9eda956e2",
   "metadata": {},
   "outputs": [],
   "source": [
    "rohan = pwskills1(999999999,\"rohan@gmail.com\", 101)"
   ]
  },
  {
   "cell_type": "code",
   "execution_count": 27,
   "id": "1d8bd7c2-7b7b-470a-89ba-d2e9f75a5302",
   "metadata": {},
   "outputs": [
    {
     "data": {
      "text/plain": [
       "(999999999, 'rohan@gmail.com', 101)"
      ]
     },
     "execution_count": 27,
     "metadata": {},
     "output_type": "execute_result"
    }
   ],
   "source": [
    "rohan.return_student_details()"
   ]
  },
  {
   "cell_type": "code",
   "execution_count": 29,
   "id": "46752930-5e97-4e9a-a331-32d974ff6e34",
   "metadata": {},
   "outputs": [],
   "source": [
    "sohan = pwskills1(8888888888,\"sohan@gmail.com\",102)"
   ]
  },
  {
   "cell_type": "code",
   "execution_count": 30,
   "id": "05016701-4c76-4bf1-810b-93cd31c0ebfc",
   "metadata": {},
   "outputs": [
    {
     "data": {
      "text/plain": [
       "(8888888888, 'sohan@gmail.com', 102)"
      ]
     },
     "execution_count": 30,
     "metadata": {},
     "output_type": "execute_result"
    }
   ],
   "source": [
    "sohan.return_student_details()"
   ]
  },
  {
   "cell_type": "code",
   "execution_count": 33,
   "id": "298cc055-5eed-47d4-b62c-b0c4e2025725",
   "metadata": {},
   "outputs": [
    {
     "data": {
      "text/plain": [
       "'rohan@gmail.com'"
      ]
     },
     "execution_count": 33,
     "metadata": {},
     "output_type": "execute_result"
    }
   ],
   "source": [
    "rohan.email_id"
   ]
  },
  {
   "cell_type": "code",
   "execution_count": 34,
   "id": "c6fd1b00-834d-41f9-becc-8522d5cd420c",
   "metadata": {},
   "outputs": [
    {
     "data": {
      "text/plain": [
       "999999999"
      ]
     },
     "execution_count": 34,
     "metadata": {},
     "output_type": "execute_result"
    }
   ],
   "source": [
    "rohan.phone_number"
   ]
  },
  {
   "cell_type": "code",
   "execution_count": 35,
   "id": "e80e182b-4dce-4012-955b-4d3161447c11",
   "metadata": {},
   "outputs": [
    {
     "data": {
      "text/plain": [
       "101"
      ]
     },
     "execution_count": 35,
     "metadata": {},
     "output_type": "execute_result"
    }
   ],
   "source": [
    "rohan.student_id"
   ]
  },
  {
   "cell_type": "code",
   "execution_count": 36,
   "id": "f0ebc7be-39ec-44ef-a4ed-953dc15de566",
   "metadata": {},
   "outputs": [
    {
     "data": {
      "text/plain": [
       "'sohan@gmail.com'"
      ]
     },
     "execution_count": 36,
     "metadata": {},
     "output_type": "execute_result"
    }
   ],
   "source": [
    "sohan.email_id"
   ]
  },
  {
   "cell_type": "code",
   "execution_count": 37,
   "id": "a20fc5a6-2916-4b25-882f-9924466358ae",
   "metadata": {},
   "outputs": [
    {
     "data": {
      "text/plain": [
       "102"
      ]
     },
     "execution_count": 37,
     "metadata": {},
     "output_type": "execute_result"
    }
   ],
   "source": [
    "sohan.student_id"
   ]
  },
  {
   "cell_type": "code",
   "execution_count": 45,
   "id": "93e3f2ea-a8d2-472f-a95e-4e60b10ace4e",
   "metadata": {},
   "outputs": [],
   "source": [
    "class pwskills2 :\n",
    "\n",
    "    def __init__(self, phone_no, email_id, student_id):\n",
    "        self.phone_no1 = phone_no\n",
    "        self.email_id1 = email_id\n",
    "        self.student_id1 = student_id\n",
    "\n",
    "    def jadu_student_details(self):\n",
    "        return self.phone_no1, self.email_id1, self.student_id1\n",
    "    \n",
    "    \n",
    "        "
   ]
  },
  {
   "cell_type": "code",
   "execution_count": 46,
   "id": "50513bb0-4058-4ee6-a932-c0b17fc2760f",
   "metadata": {},
   "outputs": [],
   "source": [
    "adil = pwskills2(777777777,\"adil@gmail.com\",201)"
   ]
  },
  {
   "cell_type": "code",
   "execution_count": 47,
   "id": "13bd81ec-3efd-4a3d-97e2-caacb4ed181f",
   "metadata": {},
   "outputs": [
    {
     "data": {
      "text/plain": [
       "(777777777, 'adil@gmail.com', 201)"
      ]
     },
     "execution_count": 47,
     "metadata": {},
     "output_type": "execute_result"
    }
   ],
   "source": [
    "adil.jadu_student_details()"
   ]
  },
  {
   "cell_type": "code",
   "execution_count": 48,
   "id": "199c30bf-3b1f-4eb1-b813-17e7166c59df",
   "metadata": {},
   "outputs": [
    {
     "data": {
      "text/plain": [
       "'adil@gmail.com'"
      ]
     },
     "execution_count": 48,
     "metadata": {},
     "output_type": "execute_result"
    }
   ],
   "source": [
    "adil.email_id1"
   ]
  },
  {
   "cell_type": "code",
   "execution_count": 49,
   "id": "d267c2a2-d24e-4556-95f9-a80a78f5e009",
   "metadata": {},
   "outputs": [
    {
     "data": {
      "text/plain": [
       "201"
      ]
     },
     "execution_count": 49,
     "metadata": {},
     "output_type": "execute_result"
    }
   ],
   "source": [
    "adil.student_id1"
   ]
  },
  {
   "cell_type": "code",
   "execution_count": 52,
   "id": "cc84fe0a-ade6-4dd7-ae9b-21693d2fc8c8",
   "metadata": {},
   "outputs": [],
   "source": [
    "class pwskills3 :\n",
    "\n",
    "    def __init__(bind, phone_no, email_id, student_id):\n",
    "        bind.phone_no = phone_no\n",
    "        bind.email_id = email_id\n",
    "        bind.student_id = student_id\n",
    "\n",
    "    def student_details(bind):\n",
    "        return bind.phone_no, bind.email_id, bind.student_id"
   ]
  },
  {
   "cell_type": "code",
   "execution_count": 55,
   "id": "69b80543-60e6-4988-9676-4586f68f6d7f",
   "metadata": {},
   "outputs": [],
   "source": [
    "arif = pwskills3(666666666,\"arif@gmail.com\",202)"
   ]
  },
  {
   "cell_type": "code",
   "execution_count": 56,
   "id": "6808039c-3842-4bfd-ba35-4395a178eabb",
   "metadata": {},
   "outputs": [
    {
     "data": {
      "text/plain": [
       "(666666666, 'arif@gmail.com', 202)"
      ]
     },
     "execution_count": 56,
     "metadata": {},
     "output_type": "execute_result"
    }
   ],
   "source": [
    "arif.student_details()"
   ]
  },
  {
   "cell_type": "code",
   "execution_count": 57,
   "id": "5957f8db-32bb-4139-adf1-d12dc34529e8",
   "metadata": {},
   "outputs": [
    {
     "data": {
      "text/plain": [
       "666666666"
      ]
     },
     "execution_count": 57,
     "metadata": {},
     "output_type": "execute_result"
    }
   ],
   "source": [
    "arif.phone_no"
   ]
  },
  {
   "cell_type": "code",
   "execution_count": 58,
   "id": "90a5e852-9927-4025-93df-5435b5b50be3",
   "metadata": {},
   "outputs": [
    {
     "data": {
      "text/plain": [
       "'arif@gmail.com'"
      ]
     },
     "execution_count": 58,
     "metadata": {},
     "output_type": "execute_result"
    }
   ],
   "source": [
    "arif.email_id"
   ]
  },
  {
   "cell_type": "code",
   "execution_count": null,
   "id": "998d6875-219e-4af6-b3f5-29360335721a",
   "metadata": {},
   "outputs": [],
   "source": []
  }
 ],
 "metadata": {
  "kernelspec": {
   "display_name": "Python 3 (ipykernel)",
   "language": "python",
   "name": "python3"
  },
  "language_info": {
   "codemirror_mode": {
    "name": "ipython",
    "version": 3
   },
   "file_extension": ".py",
   "mimetype": "text/x-python",
   "name": "python",
   "nbconvert_exporter": "python",
   "pygments_lexer": "ipython3",
   "version": "3.13.1"
  }
 },
 "nbformat": 4,
 "nbformat_minor": 5
}
